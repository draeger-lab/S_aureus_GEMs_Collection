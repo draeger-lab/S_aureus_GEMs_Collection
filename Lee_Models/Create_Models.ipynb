{
 "cells": [
  {
   "cell_type": "code",
   "execution_count": 1,
   "metadata": {},
   "outputs": [],
   "source": [
    "import cobra\n",
    "from cobra import Model, Reaction, Metabolite\n",
    "import pandas as pd\n",
    "import numpy as np\n",
    "\n",
    "# Import Biopython modules to interact with KEGG\n",
    "from Bio import SeqIO\n",
    "from Bio.KEGG import REST\n",
    "from Bio.KEGG.KGML import KGML_parser\n",
    "\n",
    "import re"
   ]
  },
  {
   "cell_type": "code",
   "execution_count": 92,
   "metadata": {},
   "outputs": [
    {
     "name": "stdout",
     "output_type": "stream",
     "text": [
      "1497\n"
     ]
    },
    {
     "data": {
      "text/html": [
       "<div>\n",
       "<style scoped>\n",
       "    .dataframe tbody tr th:only-of-type {\n",
       "        vertical-align: middle;\n",
       "    }\n",
       "\n",
       "    .dataframe tbody tr th {\n",
       "        vertical-align: top;\n",
       "    }\n",
       "\n",
       "    .dataframe thead th {\n",
       "        text-align: right;\n",
       "    }\n",
       "</style>\n",
       "<table border=\"1\" class=\"dataframe\">\n",
       "  <thead>\n",
       "    <tr style=\"text-align: right;\">\n",
       "      <th></th>\n",
       "      <th>EC number</th>\n",
       "      <th>KEGG reaction ID</th>\n",
       "      <th>Reaction_Ids</th>\n",
       "      <th>Reaction_metNames</th>\n",
       "      <th>Newman</th>\n",
       "      <th>TCH1516</th>\n",
       "      <th>USA300</th>\n",
       "      <th>Mu3</th>\n",
       "      <th>JH9</th>\n",
       "      <th>JH1</th>\n",
       "      <th>COL</th>\n",
       "      <th>RF122</th>\n",
       "      <th>Mu50</th>\n",
       "      <th>MW2</th>\n",
       "      <th>MSSA476</th>\n",
       "      <th>MRSA252</th>\n",
       "      <th>N315</th>\n",
       "    </tr>\n",
       "  </thead>\n",
       "  <tbody>\n",
       "    <tr>\n",
       "      <th>0</th>\n",
       "      <td>1.1.1.100</td>\n",
       "      <td>R02767</td>\n",
       "      <td>C01271 + C00006 &lt;=&gt; C00685 + C00005 + C00080</td>\n",
       "      <td>(3R)-3-Hydroxyacyl-[acyl-carrier protein] + NA...</td>\n",
       "      <td>+</td>\n",
       "      <td>+</td>\n",
       "      <td>+</td>\n",
       "      <td>+</td>\n",
       "      <td>+</td>\n",
       "      <td>+</td>\n",
       "      <td>+</td>\n",
       "      <td>+</td>\n",
       "      <td>+</td>\n",
       "      <td>+</td>\n",
       "      <td>+</td>\n",
       "      <td>+</td>\n",
       "      <td>+</td>\n",
       "    </tr>\n",
       "    <tr>\n",
       "      <th>1</th>\n",
       "      <td>1.1.1.100</td>\n",
       "      <td>R04533</td>\n",
       "      <td>C04618 + C00006 &lt;=&gt; C05744 + C00005</td>\n",
       "      <td>(3R)-3-Hydroxybutanoyl-[acyl-carrier protein] ...</td>\n",
       "      <td>+</td>\n",
       "      <td>+</td>\n",
       "      <td>+</td>\n",
       "      <td>+</td>\n",
       "      <td>+</td>\n",
       "      <td>+</td>\n",
       "      <td>+</td>\n",
       "      <td>+</td>\n",
       "      <td>+</td>\n",
       "      <td>+</td>\n",
       "      <td>+</td>\n",
       "      <td>+</td>\n",
       "      <td>+</td>\n",
       "    </tr>\n",
       "    <tr>\n",
       "      <th>2</th>\n",
       "      <td>1.1.1.100</td>\n",
       "      <td>R04534</td>\n",
       "      <td>C04619 + C00006 &lt;=&gt; C05753 + C00005</td>\n",
       "      <td>(3R)-3-Hydroxydecanoyl-[acyl-carrier protein] ...</td>\n",
       "      <td>+</td>\n",
       "      <td>+</td>\n",
       "      <td>+</td>\n",
       "      <td>+</td>\n",
       "      <td>+</td>\n",
       "      <td>+</td>\n",
       "      <td>+</td>\n",
       "      <td>+</td>\n",
       "      <td>+</td>\n",
       "      <td>+</td>\n",
       "      <td>+</td>\n",
       "      <td>+</td>\n",
       "      <td>+</td>\n",
       "    </tr>\n",
       "    <tr>\n",
       "      <th>3</th>\n",
       "      <td>1.1.1.100</td>\n",
       "      <td>R04536</td>\n",
       "      <td>C04620 + C00006 &lt;=&gt; C05750 + C00005</td>\n",
       "      <td>(3R)-3-Hydroxyoctanoyl-[acyl-carrier protein] ...</td>\n",
       "      <td>+</td>\n",
       "      <td>+</td>\n",
       "      <td>+</td>\n",
       "      <td>+</td>\n",
       "      <td>+</td>\n",
       "      <td>+</td>\n",
       "      <td>+</td>\n",
       "      <td>+</td>\n",
       "      <td>+</td>\n",
       "      <td>+</td>\n",
       "      <td>+</td>\n",
       "      <td>+</td>\n",
       "      <td>+</td>\n",
       "    </tr>\n",
       "    <tr>\n",
       "      <th>4</th>\n",
       "      <td>1.1.1.100</td>\n",
       "      <td>R04543</td>\n",
       "      <td>C04633 + C00006 &lt;=&gt; C05762 + C00005</td>\n",
       "      <td>(3R)-3-Hydroxypalmitoyl-[acyl-carrier protein]...</td>\n",
       "      <td>+</td>\n",
       "      <td>+</td>\n",
       "      <td>+</td>\n",
       "      <td>+</td>\n",
       "      <td>+</td>\n",
       "      <td>+</td>\n",
       "      <td>+</td>\n",
       "      <td>+</td>\n",
       "      <td>+</td>\n",
       "      <td>+</td>\n",
       "      <td>+</td>\n",
       "      <td>+</td>\n",
       "      <td>+</td>\n",
       "    </tr>\n",
       "  </tbody>\n",
       "</table>\n",
       "</div>"
      ],
      "text/plain": [
       "   EC number KEGG reaction ID                                  Reaction_Ids  \\\n",
       "0  1.1.1.100           R02767  C01271 + C00006 <=> C00685 + C00005 + C00080   \n",
       "1  1.1.1.100           R04533           C04618 + C00006 <=> C05744 + C00005   \n",
       "2  1.1.1.100           R04534           C04619 + C00006 <=> C05753 + C00005   \n",
       "3  1.1.1.100           R04536           C04620 + C00006 <=> C05750 + C00005   \n",
       "4  1.1.1.100           R04543           C04633 + C00006 <=> C05762 + C00005   \n",
       "\n",
       "                                   Reaction_metNames Newman TCH1516 USA300  \\\n",
       "0  (3R)-3-Hydroxyacyl-[acyl-carrier protein] + NA...      +       +      +   \n",
       "1  (3R)-3-Hydroxybutanoyl-[acyl-carrier protein] ...      +       +      +   \n",
       "2  (3R)-3-Hydroxydecanoyl-[acyl-carrier protein] ...      +       +      +   \n",
       "3  (3R)-3-Hydroxyoctanoyl-[acyl-carrier protein] ...      +       +      +   \n",
       "4  (3R)-3-Hydroxypalmitoyl-[acyl-carrier protein]...      +       +      +   \n",
       "\n",
       "  Mu3 JH9 JH1 COL RF122 Mu50 MW2 MSSA476 MRSA252 N315  \n",
       "0   +   +   +   +     +    +   +       +       +    +  \n",
       "1   +   +   +   +     +    +   +       +       +    +  \n",
       "2   +   +   +   +     +    +   +       +       +    +  \n",
       "3   +   +   +   +     +    +   +       +       +    +  \n",
       "4   +   +   +   +     +    +   +       +       +    +  "
      ]
     },
     "execution_count": 92,
     "metadata": {},
     "output_type": "execute_result"
    }
   ],
   "source": [
    "df = pd.read_excel('KEGG_Reactions.xlsx')\n",
    "print(len(df))\n",
    "df.head()"
   ]
  },
  {
   "cell_type": "markdown",
   "metadata": {},
   "source": [
    "### Reaction statistics"
   ]
  },
  {
   "cell_type": "code",
   "execution_count": 3,
   "metadata": {},
   "outputs": [
    {
     "name": "stdout",
     "output_type": "stream",
     "text": [
      "1481.3076923076924\n",
      "13\n",
      "Mean:  1481.3076923076924\n",
      "Std:  14.47217284937713\n"
     ]
    }
   ],
   "source": [
    "#print(list(df.keys())[4:])\n",
    "total_reaction_number = 0\n",
    "num_reactions = []\n",
    "\n",
    "for item in list(df.keys())[4:]:\n",
    "    series = df[item].value_counts()\n",
    "    for f,g in series.iteritems():\n",
    "        if f == '+':\n",
    "            total_reaction_number+= g\n",
    "            num_reactions.append(g)\n",
    "mean_reaction_number = total_reaction_number/13\n",
    "print(mean_reaction_number)\n",
    "print(len(num_reactions))\n",
    "print('Mean: ', np.mean(num_reactions))\n",
    "print('Std: ', np.std(num_reactions))"
   ]
  },
  {
   "cell_type": "markdown",
   "metadata": {},
   "source": [
    "### Gather reaction information\n",
    "- Given:\n",
    "    - ID\n",
    "    - Lower Bound (based on equation)\n",
    "    - Upper Bound (based on equation)\n",
    "- Needed:\n",
    "    - Reaction Name "
   ]
  },
  {
   "cell_type": "code",
   "execution_count": 4,
   "metadata": {},
   "outputs": [
    {
     "name": "stdout",
     "output_type": "stream",
     "text": [
      "1297\n"
     ]
    }
   ],
   "source": [
    "#initialize List for reaction names\n",
    "react_name_dict = {}\n",
    "\n",
    "#get KEGG reaction\n",
    "\n",
    "#result =REST.kegg_find('reaction', 'R02767').read()\n",
    "\n",
    "for react in df['KEGG reaction ID'].tolist():\n",
    "    try:\n",
    "        result = REST.kegg_get(react).read()\n",
    "\n",
    "        for line in result.split('\\n'):\n",
    "            if 'NAME' in line:\n",
    "                react_name_dict[react]=line[12:]\n",
    "    except:\n",
    "        #print(react)\n",
    "        react_name_dict[react] = react\n",
    "\n",
    "        \n",
    "print(len(react_name_dict))"
   ]
  },
  {
   "cell_type": "markdown",
   "metadata": {},
   "source": [
    "### Gather metabolite information:\n",
    "- Given:\n",
    "    - ID\n",
    "- Needed:\n",
    "    - Name\n",
    "    - Compartment\n",
    "    - Chemical formula\n",
    "    (- Charge)"
   ]
  },
  {
   "cell_type": "code",
   "execution_count": 69,
   "metadata": {},
   "outputs": [
    {
     "name": "stdout",
     "output_type": "stream",
     "text": [
      "1321\n"
     ]
    }
   ],
   "source": [
    "ListOfMetabolites = []\n",
    "\n",
    "for reaction in df['Reaction_Ids'].tolist():\n",
    "    splitting = reaction.split()\n",
    "    for split in splitting:\n",
    "        if '(?' in split or '(N' in split: \n",
    "            if split not in ListOfMetabolites:\n",
    "                if '[e]' in split and split[:-3] not in ListOfMetabolites:\n",
    "                    ListOfMetabolites.append(split.strip()[:-3])\n",
    "                elif '[e]' not in split:\n",
    "                    ListOfMetabolites.append(split.strip())\n",
    "        elif '+' not in split and '>' not in split and '<' not in split and '(' not in split:\n",
    "            if split not in ListOfMetabolites:\n",
    "                if '[e]' in split and split[:-3] not in ListOfMetabolites:\n",
    "                    ListOfMetabolites.append(split.strip()[:-3])\n",
    "                elif '[e]' not in split:\n",
    "                    ListOfMetabolites.append(split.strip())\n",
    "print(len(ListOfMetabolites))"
   ]
  },
  {
   "cell_type": "code",
   "execution_count": 67,
   "metadata": {},
   "outputs": [],
   "source": [
    "####Try to identify correct KEGG ID\n",
    "\n",
    "met_replace_dict = {}\n",
    "met_replace_dict['UDP-N-acetyl-D_quinovosamine'] = 'NC00001'\n",
    "met_replace_dict['4,4-diapophytofluene'] = 'C19840'\n",
    "met_replace_dict['4,4-diapo-z-carotene'] = 'C19841'\n",
    "met_replace_dict['4,4-diaponeurosporene'] = 'C16145'\n",
    "met_replace_dict['Dehydrosuqalene'] = 'C16144'\n",
    "met_replace_dict['1,2-diacylglycerol-4-O?밾omoserine'] = 'NC00002'\n",
    "met_replace_dict['1,2-diacylglycerol-4-O-homoserin'] = 'NC00002'\n",
    "met_replace_dict['1,2-diacylglycerol-4-O-(?쁍??Methyl)homoserine'] = 'NC00003'\n",
    "met_replace_dict['1,2-diacylglycerol-4-O-(N-Methyl)homoserine'] = 'NC00003'\n",
    "met_replace_dict['aminoacyl-diacyglycerol-lipoprotein'] = 'NC00004'\n",
    "met_replace_dict['aminoacyl-diacyglyceryl-lipoprotein'] = 'NC00005'\n",
    "met_replace_dict['Prolipoprotein'] = 'NC00006'\n",
    "met_replace_dict['Diacylglyceryl-prolipoprotein'] = 'NC00007'\n",
    "met_replace_dict['HPR-serine'] = 'NC00008'\n",
    "met_replace_dict['HPR-serine_phosphate'] = 'NC000022'\n",
    "met_replace_dict['S-lipoate'] = 'C00725'\n",
    "met_replace_dict['adenosine-tRNAx'] = 'NC00009'\n",
    "met_replace_dict['inosine-tRNAx'] = 'NC00010'\n",
    "met_replace_dict['UDP-N-acetyl-D-quinovosamine'] = 'NC00001'\n",
    "met_replace_dict['UDP-N-acetyl-D-fucosamine'] = 'NC00011'\n",
    "met_replace_dict['2-oxo-4-hexenedioate'] = 'NC00012'\n",
    "met_replace_dict['2-oxo-3-hexenedioate'] = 'NC00013'\n",
    "met_replace_dict['Isobutylaldehyde'] = 'cpd24683'\n",
    "met_replace_dict['1-carboxymethylpyridinium'] = 'cpd25980'\n",
    "met_replace_dict['2-dimethylsulfoniopropionate'] = 'NC00014'\n",
    "met_replace_dict['3-dimethylsulfoniopropionate'] = 'NC00015'\n",
    "met_replace_dict['p-aminobenzoylglutamate'] = 'cpd26527'\n",
    "met_replace_dict['gamma-butyrobetaine'] = 'C01181'\n",
    "met_replace_dict['homobetaine'] = 'NC00016'\n",
    "met_replace_dict['hydroxyethylthiazole'] = 'NC00017'\n",
    "met_replace_dict['macrolide'] = 'cpd29400'\n",
    "met_replace_dict['MgHPO4'] = 'NC00018'\n",
    "met_replace_dict['MnHPO4'] = 'NC00019'\n",
    "met_replace_dict['MoO4-2'] = 'C06232'\n",
    "met_replace_dict['phosphite'] = 'C06701'\n",
    "met_replace_dict['phosphonates'] = 'C06701_2'\n",
    "met_replace_dict['xanthine'] = 'C00385'\n",
    "met_replace_dict['ZnHPO4'] = 'NC00020'\n",
    "met_replace_dict['PO4'] = 'C00009'\n",
    "met_replace_dict['Hydroxymethylpyrimidine'] = 'C01279'\n",
    "met_replace_dict['D-mannosamine-6-phosphate'] = 'NC00021'\n",
    "met_replace_dict['Antimonite'] = 'cpd11598'\n",
    "met_replace_dict['1,2-diacylglycerol-4-O-(N,N-dimethyl)homoserine'] = 'NC00022'\n",
    "met_replace_dict['1,2-diacylglycerol-4-O-(N,N,N-trimethyl)homoserine'] = 'NC00023'\n",
    "met_replace_dict['sucrose'] = 'C00089'\n",
    "met_replace_dict['CaHPO4'] = 'NC00024'\n",
    "met_replace_dict['CoHPO4']= 'NC00025'\n",
    "#met_replace_dict['Fe3'] = 'C14819'\n",
    "met_replace_dict['Fe3-anguibactin'] = 'NC00026'\n",
    "met_replace_dict['Fe3-dicitrate'] = 'C06229'\n",
    "met_replace_dict['Fe3-ferrichrome'] = 'C06228'"
   ]
  },
  {
   "cell_type": "code",
   "execution_count": 70,
   "metadata": {},
   "outputs": [
    {
     "name": "stdout",
     "output_type": "stream",
     "text": [
      "1321\n"
     ]
    }
   ],
   "source": [
    "ListOfMetabolites_adapted = []\n",
    "for met in ListOfMetabolites:\n",
    "    if met in met_replace_dict.keys():\n",
    "        ListOfMetabolites_adapted.append(met_replace_dict[met])\n",
    "    else:\n",
    "        ListOfMetabolites_adapted.append(met)\n",
    "print(len(ListOfMetabolites_adapted))"
   ]
  },
  {
   "cell_type": "code",
   "execution_count": 71,
   "metadata": {},
   "outputs": [
    {
     "name": "stdout",
     "output_type": "stream",
     "text": [
      "1315\n",
      "251\n"
     ]
    }
   ],
   "source": [
    "ListOfCytosolMetabolites = []\n",
    "ListOfExternalMetabolites = []\n",
    "\n",
    "for reaction in df['Reaction_Ids'].tolist():\n",
    "    splitting = reaction.split()\n",
    "    for split in splitting:\n",
    "        if '(?' in split or '(N' in split: \n",
    "            if '[e]' in split and split[:-3] not in ListOfMetabolites:\n",
    "                ListOfExternalMetabolites.append(split.strip()[:-3])\n",
    "            elif '[e]' not in split and split not in ListOfCytosolMetabolites:\n",
    "                ListOfCytosolMetabolites.append(split.strip())\n",
    "        elif '+' not in split and '>' not in split and '<' not in split and '(' not in split:\n",
    "            if '[e]' in split and split not in ListOfExternalMetabolites:\n",
    "                ListOfExternalMetabolites.append(split[:-3])\n",
    "            elif '[e]' not in split and split not in ListOfCytosolMetabolites:\n",
    "                ListOfCytosolMetabolites.append(split)\n",
    "print(len(ListOfCytosolMetabolites))\n",
    "print(len(ListOfExternalMetabolites))"
   ]
  },
  {
   "cell_type": "code",
   "execution_count": 72,
   "metadata": {},
   "outputs": [
    {
     "name": "stdout",
     "output_type": "stream",
     "text": [
      "1236\n",
      "1162\n"
     ]
    }
   ],
   "source": [
    "DictOfMetNames = {}\n",
    "DictOfFormulas = {}\n",
    "\n",
    "for metabolite in ListOfMetabolites_adapted:\n",
    "    try:\n",
    "        result = REST.kegg_get(metabolite).read()\n",
    "        \n",
    "        for line in result.split('\\n'):\n",
    "            if 'NAME' in line:\n",
    "                DictOfMetNames[metabolite] = line[12:].split(';')[0]\n",
    "            if 'FORMULA' in line:\n",
    "                DictOfFormulas[metabolite] = line[12:]\n",
    "    except:\n",
    "        continue\n",
    "print(len(DictOfMetNames))\n",
    "print(len(DictOfFormulas))"
   ]
  },
  {
   "cell_type": "markdown",
   "metadata": {},
   "source": [
    "## Build the model"
   ]
  },
  {
   "cell_type": "code",
   "execution_count": 10,
   "metadata": {},
   "outputs": [],
   "source": [
    "####\n",
    "#Initialize Model\n",
    "####\n",
    "\n",
    "model = Model('Lee_Pan_Model')"
   ]
  },
  {
   "cell_type": "code",
   "execution_count": 11,
   "metadata": {},
   "outputs": [
    {
     "name": "stdout",
     "output_type": "stream",
     "text": [
      "1435\n"
     ]
    }
   ],
   "source": [
    "####\n",
    "#Initialize Metabolites\n",
    "####\n",
    "\n",
    "for met in ListOfCytosolMetabolites:\n",
    "    new_metabolite = Metabolite(met+'_c',name = met, compartment = 'c')\n",
    "    model.add_metabolites([new_metabolite])\n",
    "    \n",
    "for met in ListOfExternalMetabolites:\n",
    "    new_metabolite = Metabolite(met+'_e', name = met, compartment = 'e')\n",
    "    model.add_metabolites([new_metabolite])\n",
    "    \n",
    "print(len(model.metabolites))"
   ]
  },
  {
   "cell_type": "code",
   "execution_count": 12,
   "metadata": {},
   "outputs": [],
   "source": [
    "####\n",
    "#Add Names and charges, where available\n",
    "# Change ID where necessary \n",
    "###\n",
    "doubled_metabolites= ['1,2-diacylglycerol-4-O-homoserin_c', 'UDP-N-acetyl-D-quinovosamine_c', \n",
    "                      'gamma-butyrobetaine_c', 'xanthine_c', 'PO4_c', 'Hydroxymethylpyrimidine_c', \n",
    "                     'PO4_e', '1,2-diacylglycerol-4-O-(N-Methyl)homoserine_c', \n",
    "                      '1,2-diacylglycerol-4-O-(N,N-dimethyl)homoserine', 'sucrose', 'Fe3']\n",
    "\n",
    "\n",
    "for met in model.metabolites:\n",
    "    if met.id[:-2] in DictOfMetNames:\n",
    "        met.name = DictOfMetNames[met.id[:-2]]\n",
    "    else:\n",
    "        met.name = met.id[:-2]\n",
    "\n",
    "#for met in model.metabolites:\n",
    "#    if met.id[:-2] in DictOfFormulas:\n",
    "#        met.formula = DictOfFormulas[met.id[:-2]]\n",
    "\n",
    "for met in model.metabolites:\n",
    "    if met.id in doubled_metabolites:\n",
    "        continue\n",
    "    elif met.id[:-2] in met_replace_dict.keys():\n",
    "        met.id = met_replace_dict[met.id[:-2]]+ met.id[-2:]\n",
    "        #print(met.id)\n",
    "        \n",
    "###ToDo: Delete doubled_metabolites!"
   ]
  },
  {
   "cell_type": "code",
   "execution_count": 13,
   "metadata": {},
   "outputs": [
    {
     "name": "stdout",
     "output_type": "stream",
     "text": [
      "1373\n"
     ]
    }
   ],
   "source": [
    "#####\n",
    "#Reactions\n",
    "#####\n",
    "direction_indicators = ['<=>', '-->', '<--']\n",
    "\n",
    "for i in range(len(df)):\n",
    "    if df.loc[i]['KEGG reaction ID'] not in model.reactions:\n",
    "        reaction = Reaction(df.loc[i]['KEGG reaction ID'])\n",
    "\n",
    "        #Upper and lower bounds\n",
    "        direction = [split for split in df.loc[i]['Reaction_Ids'].split() if split in direction_indicators]\n",
    "        if direction[0] == '<=>':\n",
    "            reaction.upper_bound = 1000\n",
    "            reaction.lower_bound = -1000\n",
    "        elif direction[0] == '-->':\n",
    "            reaction.upper_bound = 1000\n",
    "            reaction.lower_bound = 0\n",
    "        elif direction[0] == '<--':\n",
    "            reaction.upper_bound = 0\n",
    "            reaction.lower_bound = -1000\n",
    "\n",
    "        #Reaction equation\n",
    "        reaction_string = df.loc[i]['Reaction_Ids']\n",
    "        reaction_string = reaction_string.replace('-->', '<=>')\n",
    "        reaction_string = reaction_string.replace('<--', '<=>')\n",
    "\n",
    "        substrates = reaction_string.split('<=>')[0].split('+')\n",
    "        products = reaction_string.split('<=>')[1].split('+')\n",
    "\n",
    "        for substrate in substrates:\n",
    "            if '[e]' in substrate:\n",
    "                if substrate.strip()[:-3] in met_replace_dict.keys():\n",
    "                    reaction.add_metabolites({model.metabolites.get_by_id(met_replace_dict[substrate.strip()[:-3]]+'_e'): -1})\n",
    "                elif '(' in substrate:\n",
    "                    number = substrate.split()[0].strip()[1:-1]\n",
    "                    reaction.add_metabolites({model.metabolites.get_by_id(substrate.strip()[:-3].split()[1]+'_e'): -int(number)})\n",
    "                else:\n",
    "                    reaction.add_metabolites({model.metabolites.get_by_id(substrate.strip()[:-3]+'_e'): -1})\n",
    "            else:\n",
    "                if substrate.strip() in met_replace_dict.keys():\n",
    "                    reaction.add_metabolites({model.metabolites.get_by_id(met_replace_dict[substrate.strip()]+'_c'): -1})\n",
    "                elif '(' in substrate:\n",
    "                    #print(substrate)\n",
    "                    number = substrate.split()[0].strip()[1:-1]\n",
    "                    reaction.add_metabolites({model.metabolites.get_by_id(substrate.split()[1].strip()+'_c'): -int(number)})\n",
    "                else:\n",
    "                    reaction.add_metabolites({model.metabolites.get_by_id(substrate.strip()+'_c'): -1})\n",
    "\n",
    "\n",
    "        for product in products:\n",
    "            if '[e]' in product:\n",
    "                if product.strip()[:-3] in met_replace_dict.keys():\n",
    "                    reaction.add_metabolites({model.metabolites.get_by_id(met_replace_dict[product.strip()[:-3]]+'_e'): 1})\n",
    "                elif '(' in product:\n",
    "                    #print(product)\n",
    "                    number = product.split()[0].strip()[1:-1]\n",
    "                    reaction.add_metabolites({model.metabolites.get_by_id(product.split()[1].strip()[:-3]+'_e'): int(number)})\n",
    "                else:\n",
    "                    reaction.add_metabolites({model.metabolites.get_by_id(product.strip()[:-3]+'_e'): -1})\n",
    "            else:\n",
    "                if product.strip() in met_replace_dict.keys():\n",
    "                    reaction.add_metabolites({model.metabolites.get_by_id(met_replace_dict[product.strip()]+'_c'): 1})\n",
    "                elif '(' in product:\n",
    "                    #print(product)\n",
    "                    number = product.split()[0].strip()[1:-1]\n",
    "                    reaction.add_metabolites({model.metabolites.get_by_id(product.split()[1].strip()+'_c'): int(number)})\n",
    "                else:\n",
    "                    reaction.add_metabolites({model.metabolites.get_by_id(product.strip()+'_c'): 1})\n",
    "\n",
    "        model.add_reactions([reaction])\n",
    "        \n",
    "print(len(model.reactions))"
   ]
  },
  {
   "cell_type": "code",
   "execution_count": 14,
   "metadata": {},
   "outputs": [
    {
     "name": "stdout",
     "output_type": "stream",
     "text": [
      "1297\n"
     ]
    }
   ],
   "source": [
    "changed_react_names = 0\n",
    "for react in model.reactions:\n",
    "    if react.id in react_name_dict.keys():\n",
    "        react.name = react_name_dict[react.id]\n",
    "        changed_react_names += 1\n",
    "print(changed_react_names)"
   ]
  },
  {
   "cell_type": "code",
   "execution_count": 15,
   "metadata": {},
   "outputs": [],
   "source": [
    "###Remove reactions that are empty\n",
    "model.remove_reactions(['R04168', 'R00124'])"
   ]
  },
  {
   "cell_type": "code",
   "execution_count": 16,
   "metadata": {},
   "outputs": [
    {
     "name": "stdout",
     "output_type": "stream",
     "text": [
      "C00718_c\n",
      "C00653_c\n",
      "G10558_c\n",
      "C00461_c\n",
      "G10483_c\n",
      "G10506_c\n",
      "C00965_c\n",
      "G10477_c\n",
      "G10481_c\n",
      "C03541_c\n",
      "1,2-diacylglycerol-4-O-(N-Methyl)homoserine_c\n",
      "1,2-diacylglycerol-4-O-homoserin_c\n",
      "UDP-N-acetyl-D-quinovosamine_c\n",
      "gamma-butyrobetaine_c\n",
      "xanthine_c\n",
      "PO4_c\n",
      "Hydroxymethylpyrimidine_c\n",
      "PO4_e\n"
     ]
    }
   ],
   "source": [
    "for met in model.metabolites:\n",
    "    if (len(met.reactions)) == 0:\n",
    "        print(met.id)"
   ]
  },
  {
   "cell_type": "code",
   "execution_count": 17,
   "metadata": {},
   "outputs": [],
   "source": [
    "for met in model.metabolites:\n",
    "    if (len(met.reactions)) == 0:\n",
    "        if met.id[0] != 'C' and met.id[0] != 'G':\n",
    "            model.remove_metabolites([met])"
   ]
  },
  {
   "cell_type": "code",
   "execution_count": 18,
   "metadata": {},
   "outputs": [
    {
     "name": "stdout",
     "output_type": "stream",
     "text": [
      "C00718_c\n",
      "C00653_c\n",
      "G10558_c\n",
      "C00461_c\n",
      "G10483_c\n",
      "G10506_c\n",
      "C00965_c\n",
      "G10477_c\n",
      "G10481_c\n",
      "C03541_c\n",
      "Hydroxymethylpyrimidine_c\n"
     ]
    }
   ],
   "source": [
    "for met in model.metabolites:\n",
    "    if (len(met.reactions)) == 0:\n",
    "        print(met.id)"
   ]
  },
  {
   "cell_type": "code",
   "execution_count": 19,
   "metadata": {},
   "outputs": [],
   "source": [
    "cobra.io.write_sbml_model(model, '../Models/Lee_Pan_model/Initial_Lee.xml')"
   ]
  },
  {
   "cell_type": "markdown",
   "metadata": {},
   "source": [
    "### Continue with libSBML"
   ]
  },
  {
   "cell_type": "code",
   "execution_count": 11,
   "metadata": {},
   "outputs": [
    {
     "name": "stdout",
     "output_type": "stream",
     "text": [
      "Errors:  0\n"
     ]
    }
   ],
   "source": [
    "from libsbml import *\n",
    "\n",
    "reader = SBMLReader()\n",
    "document = reader.readSBML('../Models/Lee_Pan_model/Initial_Lee.xml')\n",
    "print('Errors: ', document.getNumErrors())\n",
    "lib_model = document.getModel()"
   ]
  },
  {
   "cell_type": "code",
   "execution_count": 21,
   "metadata": {},
   "outputs": [],
   "source": [
    "#add the missing metabolites\n",
    "def add_react_prod(species):\n",
    "    species = lib_model.getSpecies(species)\n",
    "    react.addReactant(species)\n",
    "    react.addProduct(species)\n",
    "\n",
    "\n",
    "species_list = lib_model.getListOfSpecies()\n",
    "\n",
    "for react in lib_model.getListOfReactions():\n",
    "    if react.getId() == 'R_R07261':\n",
    "        add_react_prod('M_C00718_c')\n",
    "    elif react.getId() == 'R_R04083':\n",
    "        add_react_prod('M_C00653')\n",
    "    elif react.getId() == 'R_R06235':\n",
    "        add_react_prod('M_G10558')\n",
    "    elif react.getId() == 'R_01206':\n",
    "        add_react_prod('M_C00461')\n",
    "    elif react.getId() == 'R_R02334':\n",
    "        add_react_prod('M_C00461')\n",
    "    elif react.getId() == 'R_R06082':\n",
    "        add_react_prod('M_G10483')\n",
    "    elif react.getId() == 'R_R06239':\n",
    "        add_react_prod('M_G10506')\n",
    "    elif react.getId() == 'R_R00308':\n",
    "        add_react_prod('M_C00965')\n",
    "    elif react.getId() == 'R_R06204':\n",
    "        add_react_prod('M_G10477')\n",
    "    elif react.getId() == 'R_R06200':\n",
    "        add_react_prod('M_G10481')\n",
    "    elif react.getId() == 'R_R04241':\n",
    "        add_react_prod('M_C03541')"
   ]
  },
  {
   "cell_type": "code",
   "execution_count": 22,
   "metadata": {},
   "outputs": [],
   "source": [
    "### Add E.C. numbers to model\n",
    "\n",
    "EC_df = {}\n",
    "for i in range(len(df)):\n",
    "    if df.loc[i]['KEGG reaction ID'] in EC_df.keys():\n",
    "        EC_df[df.loc[i]['KEGG reaction ID']].append(df.loc[i]['EC number'])\n",
    "    else:\n",
    "        EC_df[df.loc[i]['KEGG reaction ID']] = [df.loc[i]['EC number']]\n",
    "#print(len(EC_df))\n",
    "\n",
    "\n",
    "for react in lib_model.getListOfReactions():\n",
    "    if not react.isSetMetaId():\n",
    "        react.setMetaId(react.getId())\n",
    "    \n",
    "        \n",
    "    for i in range(len(EC_df[react.getId()[2:]])):\n",
    "        cv = CVTerm()\n",
    "        cv.setQualifierType(BIOLOGICAL_QUALIFIER)\n",
    "        cv.setBiologicalQualifierType(BQB_IS)\n",
    "        cv.addResource(\"https://identifiers.org/ec-code:\" + EC_df[react.getId()[2:]][i])\n",
    "\n",
    "        react.addCVTerm(cv)"
   ]
  },
  {
   "cell_type": "code",
   "execution_count": 23,
   "metadata": {},
   "outputs": [
    {
     "data": {
      "text/plain": [
       "1"
      ]
     },
     "execution_count": 23,
     "metadata": {},
     "output_type": "execute_result"
    }
   ],
   "source": [
    "writeSBMLToFile(document, '../Models/Lee/Initial_Lee_libsbml.xml')\n",
    "#cobra.io.validate_sbml_model('Initial_Lee_libsbml.xml')"
   ]
  },
  {
   "cell_type": "markdown",
   "metadata": {},
   "source": [
    "## Biomass Reaction"
   ]
  },
  {
   "cell_type": "code",
   "execution_count": 24,
   "metadata": {},
   "outputs": [],
   "source": [
    "def find_id(met_name):\n",
    "    for met in model.metabolites:\n",
    "        if met.name == met_name:\n",
    "            print(met.id)"
   ]
  },
  {
   "cell_type": "code",
   "execution_count": 167,
   "metadata": {},
   "outputs": [
    {
     "name": "stdout",
     "output_type": "stream",
     "text": [
      "C00234_c\n"
     ]
    }
   ],
   "source": [
    "find_id('10-Formyltetrahydrofolate')"
   ]
  },
  {
   "cell_type": "code",
   "execution_count": 117,
   "metadata": {},
   "outputs": [
    {
     "name": "stderr",
     "output_type": "stream",
     "text": [
      "No objective coefficients in model. Unclear what should be optimized\n"
     ]
    }
   ],
   "source": [
    "model = cobra.io.read_sbml_model('../Models/Lee_Pan_model/Initial_Lee.xml')"
   ]
  },
  {
   "cell_type": "markdown",
   "metadata": {},
   "source": [
    "### Heinemann Biomass Reaction"
   ]
  },
  {
   "cell_type": "code",
   "execution_count": 118,
   "metadata": {},
   "outputs": [
    {
     "data": {
      "text/html": [
       "<div>\n",
       "<style scoped>\n",
       "    .dataframe tbody tr th:only-of-type {\n",
       "        vertical-align: middle;\n",
       "    }\n",
       "\n",
       "    .dataframe tbody tr th {\n",
       "        vertical-align: top;\n",
       "    }\n",
       "\n",
       "    .dataframe thead th {\n",
       "        text-align: right;\n",
       "    }\n",
       "</style>\n",
       "<table border=\"1\" class=\"dataframe\">\n",
       "  <thead>\n",
       "    <tr style=\"text-align: right;\">\n",
       "      <th></th>\n",
       "      <th>Biomass components (m_i)</th>\n",
       "      <th>ID</th>\n",
       "      <th>Coefficient(c_i)</th>\n",
       "    </tr>\n",
       "  </thead>\n",
       "  <tbody>\n",
       "    <tr>\n",
       "      <th>0</th>\n",
       "      <td>L-Alanine</td>\n",
       "      <td>C00041_c</td>\n",
       "      <td>0,213054</td>\n",
       "    </tr>\n",
       "    <tr>\n",
       "      <th>1</th>\n",
       "      <td>L-Arginine</td>\n",
       "      <td>C00062_c</td>\n",
       "      <td>0,111232</td>\n",
       "    </tr>\n",
       "    <tr>\n",
       "      <th>2</th>\n",
       "      <td>L-Asparagine</td>\n",
       "      <td>C00152_c</td>\n",
       "      <td>0,1732</td>\n",
       "    </tr>\n",
       "    <tr>\n",
       "      <th>3</th>\n",
       "      <td>L-Aspartate</td>\n",
       "      <td>C00441_c</td>\n",
       "      <td>0,261826</td>\n",
       "    </tr>\n",
       "    <tr>\n",
       "      <th>4</th>\n",
       "      <td>L-Cysteine</td>\n",
       "      <td>C00097_c</td>\n",
       "      <td>0,0192</td>\n",
       "    </tr>\n",
       "  </tbody>\n",
       "</table>\n",
       "</div>"
      ],
      "text/plain": [
       "  Biomass components (m_i)        ID Coefficient(c_i)\n",
       "0                L-Alanine  C00041_c         0,213054\n",
       "1               L-Arginine  C00062_c         0,111232\n",
       "2             L-Asparagine  C00152_c           0,1732\n",
       "3              L-Aspartate  C00441_c         0,261826\n",
       "4               L-Cysteine  C00097_c           0,0192"
      ]
     },
     "execution_count": 118,
     "metadata": {},
     "output_type": "execute_result"
    }
   ],
   "source": [
    "growth_heine = pd.read_csv('BIomass_Heinemann.csv', sep=';')\n",
    "growth_heine.head()"
   ]
  },
  {
   "cell_type": "code",
   "execution_count": 119,
   "metadata": {},
   "outputs": [],
   "source": [
    "reaction = Reaction('Biomass_Heinemann')\n",
    "reaction.name = 'Biomass reaction based on Heinemann'\n",
    "reaction.lower_bound = 0\n",
    "reaction.upper_bound = 1000\n",
    "\n",
    "biomass = Metabolite('Biomass', name='Biomass', compartment='c')\n",
    "\n",
    "for i in range(len(growth_heine)):\n",
    "    number = float(growth_heine.loc[i]['Coefficient(c_i)'].replace(',', '.'))\n",
    "    reaction.add_metabolites({\n",
    "        model.metabolites.get_by_id(growth_heine.loc[i]['ID']): -number \n",
    "    })\n",
    "reaction.add_metabolites({biomass: 1})   \n",
    "\n",
    "model.add_reaction(reaction) \n",
    "\n",
    "model.objective = 'Biomass_Heinemann'"
   ]
  },
  {
   "cell_type": "code",
   "execution_count": 120,
   "metadata": {},
   "outputs": [
    {
     "name": "stdout",
     "output_type": "stream",
     "text": [
      "1372\n"
     ]
    }
   ],
   "source": [
    "print(len(model.reactions))"
   ]
  },
  {
   "cell_type": "markdown",
   "metadata": {},
   "source": [
    "### Becker Biomass Reaction"
   ]
  },
  {
   "cell_type": "code",
   "execution_count": 121,
   "metadata": {},
   "outputs": [
    {
     "data": {
      "text/html": [
       "<div>\n",
       "<style scoped>\n",
       "    .dataframe tbody tr th:only-of-type {\n",
       "        vertical-align: middle;\n",
       "    }\n",
       "\n",
       "    .dataframe tbody tr th {\n",
       "        vertical-align: top;\n",
       "    }\n",
       "\n",
       "    .dataframe thead th {\n",
       "        text-align: right;\n",
       "    }\n",
       "</style>\n",
       "<table border=\"1\" class=\"dataframe\">\n",
       "  <thead>\n",
       "    <tr style=\"text-align: right;\">\n",
       "      <th></th>\n",
       "      <th>Biomass components (m_i)</th>\n",
       "      <th>ID</th>\n",
       "      <th>Coefficient(c_i)</th>\n",
       "    </tr>\n",
       "  </thead>\n",
       "  <tbody>\n",
       "    <tr>\n",
       "      <th>0</th>\n",
       "      <td>H2O</td>\n",
       "      <td>C00001_c</td>\n",
       "      <td>20000</td>\n",
       "    </tr>\n",
       "    <tr>\n",
       "      <th>1</th>\n",
       "      <td>ATP</td>\n",
       "      <td>C00002_c</td>\n",
       "      <td>20000</td>\n",
       "    </tr>\n",
       "    <tr>\n",
       "      <th>2</th>\n",
       "      <td>L-Glutamate</td>\n",
       "      <td>C00025_c</td>\n",
       "      <td>9,68</td>\n",
       "    </tr>\n",
       "    <tr>\n",
       "      <th>3</th>\n",
       "      <td>L-Glutamine</td>\n",
       "      <td>C00064_c</td>\n",
       "      <td>8,72</td>\n",
       "    </tr>\n",
       "    <tr>\n",
       "      <th>4</th>\n",
       "      <td>L-Alanine</td>\n",
       "      <td>C00041_c</td>\n",
       "      <td>6,6</td>\n",
       "    </tr>\n",
       "  </tbody>\n",
       "</table>\n",
       "</div>"
      ],
      "text/plain": [
       "  Biomass components (m_i)        ID Coefficient(c_i)\n",
       "0                      H2O  C00001_c            20000\n",
       "1                      ATP  C00002_c            20000\n",
       "2              L-Glutamate  C00025_c             9,68\n",
       "3              L-Glutamine  C00064_c             8,72\n",
       "4                L-Alanine  C00041_c              6,6"
      ]
     },
     "execution_count": 121,
     "metadata": {},
     "output_type": "execute_result"
    }
   ],
   "source": [
    "growth_becker = pd.read_csv('Biomass_Becker.csv', sep=';')\n",
    "growth_becker.head()"
   ]
  },
  {
   "cell_type": "code",
   "execution_count": 122,
   "metadata": {},
   "outputs": [],
   "source": [
    "reaction = Reaction('Biomass_Becker')\n",
    "reaction.name = 'Biomass reaction based on Becker and Palsson'\n",
    "reaction.lower_bound = 0\n",
    "reaction.upper_bound = 1000\n",
    "\n",
    "#biomass = Metabolite('Biomass', name='Biomass', compartment='c')\n",
    "\n",
    "for i in range(len(growth_becker)):\n",
    "    number = float(growth_becker.loc[i]['Coefficient(c_i)'].replace(',', '.'))\n",
    "    reaction.add_metabolites({\n",
    "        model.metabolites.get_by_id(growth_becker.loc[i]['ID']): -number \n",
    "    })\n",
    "reaction.add_metabolites({biomass: 1})   \n",
    "\n",
    "model.add_reaction(reaction) \n",
    "\n",
    "model.objective = 'Biomass_Becker'"
   ]
  },
  {
   "cell_type": "code",
   "execution_count": 170,
   "metadata": {
    "collapsed": true
   },
   "outputs": [
    {
     "data": {
      "text/html": [
       "<strong><em>Optimal</em> solution with objective value 0.000</strong><br><div>\n",
       "<style scoped>\n",
       "    .dataframe tbody tr th:only-of-type {\n",
       "        vertical-align: middle;\n",
       "    }\n",
       "\n",
       "    .dataframe tbody tr th {\n",
       "        vertical-align: top;\n",
       "    }\n",
       "\n",
       "    .dataframe thead th {\n",
       "        text-align: right;\n",
       "    }\n",
       "</style>\n",
       "<table border=\"1\" class=\"dataframe\">\n",
       "  <thead>\n",
       "    <tr style=\"text-align: right;\">\n",
       "      <th></th>\n",
       "      <th>fluxes</th>\n",
       "      <th>reduced_costs</th>\n",
       "    </tr>\n",
       "  </thead>\n",
       "  <tbody>\n",
       "    <tr>\n",
       "      <th>R02767</th>\n",
       "      <td>0.0</td>\n",
       "      <td>0.0</td>\n",
       "    </tr>\n",
       "    <tr>\n",
       "      <th>R04533</th>\n",
       "      <td>0.0</td>\n",
       "      <td>-0.0</td>\n",
       "    </tr>\n",
       "    <tr>\n",
       "      <th>R04534</th>\n",
       "      <td>0.0</td>\n",
       "      <td>-0.0</td>\n",
       "    </tr>\n",
       "    <tr>\n",
       "      <th>R04536</th>\n",
       "      <td>0.0</td>\n",
       "      <td>-0.0</td>\n",
       "    </tr>\n",
       "    <tr>\n",
       "      <th>R04543</th>\n",
       "      <td>0.0</td>\n",
       "      <td>-0.0</td>\n",
       "    </tr>\n",
       "    <tr>\n",
       "      <th>...</th>\n",
       "      <td>...</td>\n",
       "      <td>...</td>\n",
       "    </tr>\n",
       "    <tr>\n",
       "      <th>EX_C00073_e</th>\n",
       "      <td>0.0</td>\n",
       "      <td>0.0</td>\n",
       "    </tr>\n",
       "    <tr>\n",
       "      <th>EX_C00152_e</th>\n",
       "      <td>0.0</td>\n",
       "      <td>0.0</td>\n",
       "    </tr>\n",
       "    <tr>\n",
       "      <th>EX_C00378_e</th>\n",
       "      <td>0.0</td>\n",
       "      <td>0.0</td>\n",
       "    </tr>\n",
       "    <tr>\n",
       "      <th>EX_C00155_e</th>\n",
       "      <td>0.0</td>\n",
       "      <td>0.0</td>\n",
       "    </tr>\n",
       "    <tr>\n",
       "      <th>Biomass_Becker</th>\n",
       "      <td>0.0</td>\n",
       "      <td>0.0</td>\n",
       "    </tr>\n",
       "  </tbody>\n",
       "</table>\n",
       "<p>1492 rows × 2 columns</p>\n",
       "</div>"
      ],
      "text/plain": [
       "<Solution 0.000 at 0x10239c4910>"
      ]
     },
     "execution_count": 170,
     "metadata": {},
     "output_type": "execute_result"
    }
   ],
   "source": [
    "model.optimize()"
   ]
  },
  {
   "cell_type": "code",
   "execution_count": 123,
   "metadata": {},
   "outputs": [],
   "source": [
    "cobra.io.write_sbml_model(model, '../Models/Lee_Pan_model/Initial_Lee_2a.xml')"
   ]
  },
  {
   "cell_type": "markdown",
   "metadata": {},
   "source": [
    "## Exchange reactions"
   ]
  },
  {
   "cell_type": "code",
   "execution_count": 124,
   "metadata": {},
   "outputs": [],
   "source": [
    "model = cobra.io.read_sbml_model('../Models/Lee_Pan_model/Initial_Lee_2a.xml')"
   ]
  },
  {
   "cell_type": "code",
   "execution_count": 125,
   "metadata": {},
   "outputs": [
    {
     "name": "stdout",
     "output_type": "stream",
     "text": [
      "1492\n"
     ]
    }
   ],
   "source": [
    "for met in model.metabolites:\n",
    "    if met.compartment == 'e':\n",
    "        reaction = Reaction('EX_'+met.id)\n",
    "        reaction.name = met.name + ' exchange'\n",
    "        reaction.lower_bound = -1000\n",
    "        reaction.upper_bound = 1000\n",
    "        reaction.add_metabolites({\n",
    "            met: -1\n",
    "        })\n",
    "        model.add_reaction(reaction)\n",
    "print(len(model.reactions))"
   ]
  },
  {
   "cell_type": "code",
   "execution_count": 5,
   "metadata": {
    "collapsed": true
   },
   "outputs": [
    {
     "data": {
      "text/html": [
       "<strong><em>Optimal</em> solution with objective value 0.000</strong><br><div>\n",
       "<style scoped>\n",
       "    .dataframe tbody tr th:only-of-type {\n",
       "        vertical-align: middle;\n",
       "    }\n",
       "\n",
       "    .dataframe tbody tr th {\n",
       "        vertical-align: top;\n",
       "    }\n",
       "\n",
       "    .dataframe thead th {\n",
       "        text-align: right;\n",
       "    }\n",
       "</style>\n",
       "<table border=\"1\" class=\"dataframe\">\n",
       "  <thead>\n",
       "    <tr style=\"text-align: right;\">\n",
       "      <th></th>\n",
       "      <th>fluxes</th>\n",
       "      <th>reduced_costs</th>\n",
       "    </tr>\n",
       "  </thead>\n",
       "  <tbody>\n",
       "    <tr>\n",
       "      <th>R02767</th>\n",
       "      <td>0.0</td>\n",
       "      <td>0.0</td>\n",
       "    </tr>\n",
       "    <tr>\n",
       "      <th>R04533</th>\n",
       "      <td>0.0</td>\n",
       "      <td>0.0</td>\n",
       "    </tr>\n",
       "    <tr>\n",
       "      <th>R04534</th>\n",
       "      <td>0.0</td>\n",
       "      <td>-0.0</td>\n",
       "    </tr>\n",
       "    <tr>\n",
       "      <th>R04536</th>\n",
       "      <td>0.0</td>\n",
       "      <td>0.0</td>\n",
       "    </tr>\n",
       "    <tr>\n",
       "      <th>R04543</th>\n",
       "      <td>0.0</td>\n",
       "      <td>-0.0</td>\n",
       "    </tr>\n",
       "    <tr>\n",
       "      <th>...</th>\n",
       "      <td>...</td>\n",
       "      <td>...</td>\n",
       "    </tr>\n",
       "    <tr>\n",
       "      <th>EX_C00003_e</th>\n",
       "      <td>0.0</td>\n",
       "      <td>0.0</td>\n",
       "    </tr>\n",
       "    <tr>\n",
       "      <th>EX_C00073_e</th>\n",
       "      <td>-0.0</td>\n",
       "      <td>-0.0</td>\n",
       "    </tr>\n",
       "    <tr>\n",
       "      <th>EX_C00152_e</th>\n",
       "      <td>0.0</td>\n",
       "      <td>0.0</td>\n",
       "    </tr>\n",
       "    <tr>\n",
       "      <th>EX_C00378_e</th>\n",
       "      <td>0.0</td>\n",
       "      <td>0.0</td>\n",
       "    </tr>\n",
       "    <tr>\n",
       "      <th>EX_C00155_e</th>\n",
       "      <td>0.0</td>\n",
       "      <td>0.0</td>\n",
       "    </tr>\n",
       "  </tbody>\n",
       "</table>\n",
       "<p>1492 rows × 2 columns</p>\n",
       "</div>"
      ],
      "text/plain": [
       "<Solution 0.000 at 0x10258224d0>"
      ]
     },
     "execution_count": 5,
     "metadata": {},
     "output_type": "execute_result"
    }
   ],
   "source": [
    "model.optimize()"
   ]
  },
  {
   "cell_type": "code",
   "execution_count": 38,
   "metadata": {
    "collapsed": true
   },
   "outputs": [
    {
     "name": "stdout",
     "output_type": "stream",
     "text": [
      "C00041_c L-Alanine\n",
      "T00061: C00041_e + C00080_e --> C00041_c + C00080_c\n",
      "T00062: C00041_e + C01330_e --> C00041_c + C01330_c\n",
      "------\n",
      "C00062_c L-Arginine\n",
      "T00064: C00062_e + C00077_c + C00077_e --> C00062_c\n",
      "T00011: C00062_e + C00080_e --> C00062_c + C00080_c\n",
      "T00063: C00001_e + C00002_c + C00062_e --> C00008_c + C00009_c + C00062_c\n",
      "------\n",
      "C00152_c L-Asparagine\n",
      "T00156: C00152_e --> C00152_c\n",
      "------\n",
      "C00441_c L-Aspartate\n",
      "------\n",
      "C00097_c L-Cysteine\n",
      "T00127: C00097_c + C00097_e --> \n",
      "T00155: C00097_e --> C00097_c\n",
      "------\n",
      "C00064_c L-Glutamine\n",
      "------\n",
      "C00025_c L-Glutamate\n",
      "T00068: C00025_e + C01330_e --> C00025_c + C01330_c\n",
      "T00067: C00025_e + C00080_e --> C00025_c + C00080_c\n",
      "------\n",
      "C00037_c Glycine\n",
      "T00136: C00037_e + C01330_e --> C00037_c + C01330_c\n",
      "T00054: C00037_e + C00080_e --> C00037_c + C00080_c\n",
      "------\n",
      "C00135_c L-Histidine\n",
      "------\n",
      "C00407_c L-Isoleucine\n",
      "T00069: C00080_e + C00407_c + C00407_e --> C00080_c\n",
      "T00070: C00080_e + C00407_e --> C00080_c + C00407_c\n",
      "------\n",
      "C00123_c L-Leucine\n",
      "T00073: C00080_e + C00123_e --> C00080_c + C00123_c\n",
      "T00072: C00080_e + C00123_c + C00123_e --> C00080_c\n",
      "------\n",
      "C00047_c L-Lysine\n",
      "T00074: C00047_e + C00080_e --> C00047_c + C00080_c\n",
      "------\n",
      "C00073_c L-Methionine\n",
      "T00154: C00073_e --> C00073_c\n",
      "------\n",
      "C00079_c L-Phenylalanine\n",
      "------\n",
      "C00148_c L-Proline\n",
      "T00105: C00080_e + C00148_e --> C00080_c + C00148_c\n",
      "T00076: C00148_e + C01330_e --> C00148_c + C01330_c\n",
      "------\n",
      "C00065_c L-Serine\n",
      "T00077: C00065_e + C00080_e --> C00065_c + C00080_c\n",
      "T00078: C00065_c + C00065_e + C00080_e --> C00080_c\n",
      "T00153: C00065_e --> C00065_c\n",
      "------\n",
      "C00188_c L-Threonine\n",
      "T00079: C00080_e + C00188_c + C00188_e --> C00080_c\n",
      "------\n",
      "C00078_c L-Tryptophan\n",
      "------\n",
      "C00082_c L-Tyrosine\n",
      "------\n",
      "C00183_c L-Valine\n",
      "T00080: C00080_e + C00183_c + C00183_e --> C00080_c\n",
      "T00081: C00080_e + C00183_e --> C00080_c + C00183_c\n",
      "------\n",
      "C00002_c ATP\n",
      "T00100: C00001_e + C00002_c + C00098_e --> C00008_c + C00009_c + C00098_c\n",
      "T00087: C00001_e + C00002_c + C00034_e --> C00008_c + C00009_c + C00034_c\n",
      "T00039: C00001_e + C00002_c + C06229_e --> C00008_c + C00009_c + C06229_c\n",
      "T00051: C00001_e + C00002_c + C00719_e --> C00008_c + C00009_c + C00719_c\n",
      "T00018: C00001_e + C00002_c + C00175_e --> C00008_c + C00009_c + C00175_c\n",
      "T00040: C00001_e + C00002_c + C06228_e --> C00008_c + C00009_c + C06228_c\n",
      "T00102: C00001_e + C00002_c + C06701_e --> C00008_c + C00009_c + C06701_c\n",
      "T00116: C00001_e + C00002_c + C00238_e --> C00008_c + C00009_c + C00238_c\n",
      "T00103: C00001_e + C00002_c + C06701_2_e --> C00008_c + C06701_2_c\n",
      "T00041: C00001_e + C00002_c + C14819_e --> C00008_c + C00009_c + C14819_c\n",
      "T00022: C00001_e + C00002_c + C00491_e --> C00008_c + C00009_c + C00491_c\n",
      "T00085: C00001_e + C00002_c + C01935_e --> C00008_c + C00009_c + C01935_c\n",
      "T00021: C00001_e + C00002_c + C00070_c + C00070_e --> C00008_c + C00009_c\n",
      "T00106: C00001_e + C00002_c + C00134_e --> C00008_c + C00009_c + C00134_c\n",
      "T00042: C00001_e + C00002_c + C14818_e --> C00008_c + C00009_c + C14818_c\n",
      "T00063: C00001_e + C00002_c + C00062_e --> C00008_c + C00009_c + C00062_c\n",
      "T00111: C00001_e + C00002_c + C00315_e --> C00008_c + C00009_c + C00315_c\n",
      "T00126: C00001_c + C00002_c + C00080_c + C00080_e <=> C00008_c + C00009_c\n",
      "T00093: C00001_e + C00002_c + C06232_e --> C00008_c + C00009_c + C06232_c\n",
      "T00110: C00001_e + C00002_c + C01330_c + C01330_e --> C00008_c + C00009_c\n",
      "T00124: C00001_e + C00002_c + C00038_e --> C00008_c + C00009_c + C00038_c\n",
      "T00030: C00001_e + C00002_c + C00666_e --> C00008_c + C00666_c\n",
      "T00035: C00001_e + C00002_c + C00208_e --> C00008_c + C00009_c + C00208_c\n",
      "T00038: C00001_e + C00002_c + NC00026_e --> C00008_c + C00009_c + NC00026_c\n",
      "------\n",
      "C00131_c dATP\n",
      "------\n",
      "C00458_c dCTP\n",
      "------\n",
      "C00286_c dGTP\n",
      "------\n",
      "C00459_c dTTP\n",
      "------\n",
      "C00063_c CTP\n",
      "------\n",
      "C00044_c GTP\n",
      "------\n",
      "C00075_c UTP\n",
      "------\n",
      "C00238_c K+\n",
      "T00104: C00238_e + C01330_e --> C00238_c + C01330_c\n",
      "T00122: C00038_c + C00038_e + C00080_e + C00238_e --> C00080_c + C00238_c\n",
      "T00116: C00001_e + C00002_c + C00238_e --> C00008_c + C00009_c + C00238_c\n",
      "T00017: C00080_e + C00175_c + C00175_e + C00238_e --> C00080_c + C00238_c\n",
      "------\n",
      "C00305_c Mg+2\n",
      "T00084: C00305_e --> C00305_c\n",
      "T00083: C00305_c + C00305_e --> \n",
      "------\n",
      "C01330_c Na+\n",
      "T00101: C00009_e + C01330_e --> C00009_c + C01330_c\n",
      "T00053: C00719_e + C01330_e --> C00719_c + C01330_c\n",
      "T00104: C00238_e + C01330_e --> C00238_c + C01330_c\n",
      "T00068: C00025_e + C01330_e --> C00025_c + C01330_c\n",
      "T00065: C00049_e + C01330_e --> C00049_c + C01330_c\n",
      "T00136: C00037_e + C01330_e --> C00037_c + C01330_c\n",
      "T00095: C00270_e + C01330_e --> C00270_c + C01330_c\n",
      "T00110: C00001_e + C00002_c + C01330_c + C01330_e --> C00008_c + C00009_c\n",
      "T00062: C00041_e + C01330_e --> C00041_c + C01330_c\n",
      "T00128: C00009_e + C01330_e --> C00009_c + C01330_c\n",
      "T00025: C00133_e + C01330_e --> C00133_c + C01330_c\n",
      "T00076: C00148_e + C01330_e --> C00148_c + C01330_c\n",
      "------\n",
      "C00009_c Orthophosphate\n",
      "T00100: C00001_e + C00002_c + C00098_e --> C00008_c + C00009_c + C00098_c\n",
      "T00087: C00001_e + C00002_c + C00034_e --> C00008_c + C00009_c + C00034_c\n",
      "T00039: C00001_e + C00002_c + C06229_e --> C00008_c + C00009_c + C06229_c\n",
      "T00035: C00001_e + C00002_c + C00208_e --> C00008_c + C00009_c + C00208_c\n",
      "T00044: C00009_c + C00009_e + C00085_e --> C00085_c\n",
      "T00051: C00001_e + C00002_c + C00719_e --> C00008_c + C00009_c + C00719_c\n",
      "T00018: C00001_e + C00002_c + C00175_e --> C00008_c + C00009_c + C00175_c\n",
      "T00101: C00009_e + C01330_e --> C00009_c + C01330_c\n",
      "T00040: C00001_e + C00002_c + C06228_e --> C00008_c + C00009_c + C06228_c\n",
      "T00102: C00001_e + C00002_c + C06701_e --> C00008_c + C00009_c + C06701_c\n",
      "T00116: C00001_e + C00002_c + C00238_e --> C00008_c + C00009_c + C00238_c\n",
      "T00047: C00009_c + C00009_e + C00092_e --> C00092_c\n",
      "T00041: C00001_e + C00002_c + C14819_e --> C00008_c + C00009_c + C14819_c\n",
      "T00022: C00001_e + C00002_c + C00491_e --> C00008_c + C00009_c + C00491_c\n",
      "T00090: C00009_c + 2.0 C00275_e --> C00275_c\n",
      "T00085: C00001_e + C00002_c + C01935_e --> C00008_c + C00009_c + C01935_c\n",
      "T00021: C00001_e + C00002_c + C00070_c + C00070_e --> C00008_c + C00009_c\n",
      "T00106: C00001_e + C00002_c + C00134_e --> C00008_c + C00009_c + C00134_c\n",
      "T00042: C00001_e + C00002_c + C14818_e --> C00008_c + C00009_c + C14818_c\n",
      "T00049: C00009_c + C00009_e + C00093_e --> C00093_c\n",
      "T00063: C00001_e + C00002_c + C00062_e --> C00008_c + C00009_c + C00062_c\n",
      "T00111: C00001_e + C00002_c + C00315_e --> C00008_c + C00009_c + C00315_c\n",
      "T00128: C00009_e + C01330_e --> C00009_c + C01330_c\n",
      "T00093: C00001_e + C00002_c + C06232_e --> C00008_c + C00009_c + C06232_c\n",
      "T00110: C00001_e + C00002_c + C01330_c + C01330_e --> C00008_c + C00009_c\n",
      "T00124: C00001_e + C00002_c + C00038_e --> C00008_c + C00009_c + C00038_c\n",
      "T00038: C00001_e + C00002_c + NC00026_e --> C00008_c + C00009_c + NC00026_c\n",
      "T00126: C00001_c + C00002_c + C00080_c + C00080_e <=> C00008_c + C00009_c\n",
      "------\n",
      "C00031_c D-Glucose\n",
      "------\n",
      "C00024_c Acetyl-CoA\n",
      "------\n",
      "C00091_c Succinyl-CoA\n",
      "------\n",
      "C00010_c CoA\n",
      "------\n",
      "C00016_c FAD\n",
      "------\n",
      "C00003_c NAD\n",
      "T00152: C00003_e --> C00003_c\n",
      "------\n",
      "C00004_c NADH\n",
      "------\n",
      "C00006_c NADP\n",
      "------\n",
      "C00005_c NADPH\n",
      "------\n"
     ]
    }
   ],
   "source": [
    "for i in range(len(growth_heine)):\n",
    "    print(growth_heine.loc[i]['ID'], growth_heine.loc[i]['Biomass components (m_i)'])\n",
    "    reactions = list(model.metabolites.get_by_id(growth_heine.loc[i]['ID']).reactions)\n",
    "    transport_react = [react.id for react in reactions if 'T' in react.id]\n",
    "    for react in transport_react:\n",
    "        print(model.reactions.get_by_id(react))\n",
    "    print('------')"
   ]
  },
  {
   "cell_type": "code",
   "execution_count": 126,
   "metadata": {},
   "outputs": [],
   "source": [
    "cobra.io.write_sbml_model(model, '../Models/Lee_Pan_model/Initial_Lee_2a.xml')\n",
    "#cobra.io.validate_sbml_model('Initial_Lee_3.xml')"
   ]
  },
  {
   "cell_type": "markdown",
   "metadata": {},
   "source": [
    "----\n",
    "## Model Polisher used on Pan Model \n",
    "\n",
    "Check, whether \n",
    "- boundaries and\n",
    "- objective value $\\checkmark$\n",
    "\n",
    "are still the same! "
   ]
  },
  {
   "cell_type": "code",
   "execution_count": 127,
   "metadata": {},
   "outputs": [],
   "source": [
    "old_model = cobra.io.read_sbml_model('../Models/Lee_Pan_model/Initial_Lee_2a.xml')\n",
    "new_model = cobra.io.read_sbml_model('../Models/Lee_Pan_model/Initial_Lee_polished2.xml')"
   ]
  },
  {
   "cell_type": "code",
   "execution_count": 128,
   "metadata": {},
   "outputs": [
    {
     "name": "stdout",
     "output_type": "stream",
     "text": [
      "1492\n"
     ]
    }
   ],
   "source": [
    "boundaries_old = {}\n",
    "\n",
    "for react in old_model.reactions:\n",
    "    boundaries_old[react.id] = [reaction.lower_bound, reaction.upper_bound]\n",
    "print(len(boundaries_old))\n",
    "\n",
    "for react in new_model.reactions:\n",
    "    if react in old_model.reactions:\n",
    "        react.lower_bound = boundaries_old[react.id][0]\n",
    "        react.upper_bound = boundaries_old[react.id][1]"
   ]
  },
  {
   "cell_type": "code",
   "execution_count": 130,
   "metadata": {},
   "outputs": [],
   "source": [
    "cobra.io.write_sbml_model(new_model, '../Models/Lee_Pan_model/Initial_Lee_polished2.xml')"
   ]
  },
  {
   "cell_type": "code",
   "execution_count": 131,
   "metadata": {},
   "outputs": [
    {
     "data": {
      "text/html": [
       "\n",
       "        <table>\n",
       "            <tr>\n",
       "                <td><strong>Reaction identifier</strong></td><td>BIOMASS_Becker</td>\n",
       "            </tr><tr>\n",
       "                <td><strong>Name</strong></td><td></td>\n",
       "            </tr><tr>\n",
       "                <td><strong>Memory address</strong></td>\n",
       "                <td>0x0106c9bddd0</td>\n",
       "            </tr><tr>\n",
       "                <td><strong>Stoichiometry</strong></td>\n",
       "                <td>\n",
       "                    <p style='text-align:right'>20000.0 C00001_c + 20000.0 C00002_c + 0.01 C00003_c + 0.01 C00006_c + 0.01 C00016_c + 3.11 C00020_c + 9.68 C00025_c + 3.51 C00037_c + 6.6 C00041_c + 5.45 C00047_c + 2.2 C00055_c + 3.88 C00062_c + 8...</p>\n",
       "                    <p style='text-align:right'>20000.0 H2O + 20000.0 ATP + 0.01 NAD+ + 0.01 NADP+ + 0.01 FAD + 3.11 AMP + 9.68 L-Glutamate + 3.51 Glycine + 6.6 L-Alanine + 5.45 L-Lysine + 2.2 CMP + 3.88 L-Arginine + 8.72 L-Glutamine + 2.6 L-Ser...</p>\n",
       "                </td>\n",
       "            </tr><tr>\n",
       "                <td><strong>GPR</strong></td><td></td>\n",
       "            </tr><tr>\n",
       "                <td><strong>Lower bound</strong></td><td>0.0</td>\n",
       "            </tr><tr>\n",
       "                <td><strong>Upper bound</strong></td><td>1000.0</td>\n",
       "            </tr>\n",
       "        </table>\n",
       "        "
      ],
      "text/plain": [
       "<Reaction BIOMASS_Becker at 0x106c9bddd0>"
      ]
     },
     "execution_count": 131,
     "metadata": {},
     "output_type": "execute_result"
    }
   ],
   "source": [
    "new_model.reactions.get_by_id('BIOMASS_Becker')"
   ]
  },
  {
   "cell_type": "markdown",
   "metadata": {},
   "source": [
    "-----\n",
    "# Create individual models"
   ]
  },
  {
   "cell_type": "code",
   "execution_count": 132,
   "metadata": {},
   "outputs": [
    {
     "name": "stdout",
     "output_type": "stream",
     "text": [
      "1492\n",
      "1429\n"
     ]
    }
   ],
   "source": [
    "model = cobra.io.read_sbml_model('../Models/Lee_Pan_model/Initial_Lee_polished2.xml')\n",
    "print(len(model.reactions))\n",
    "print(len(model.metabolites))"
   ]
  },
  {
   "cell_type": "code",
   "execution_count": 17,
   "metadata": {},
   "outputs": [
    {
     "data": {
      "text/html": [
       "<div>\n",
       "<style scoped>\n",
       "    .dataframe tbody tr th:only-of-type {\n",
       "        vertical-align: middle;\n",
       "    }\n",
       "\n",
       "    .dataframe tbody tr th {\n",
       "        vertical-align: top;\n",
       "    }\n",
       "\n",
       "    .dataframe thead th {\n",
       "        text-align: right;\n",
       "    }\n",
       "</style>\n",
       "<table border=\"1\" class=\"dataframe\">\n",
       "  <thead>\n",
       "    <tr style=\"text-align: right;\">\n",
       "      <th></th>\n",
       "      <th>EC number</th>\n",
       "      <th>KEGG reaction ID</th>\n",
       "      <th>Reaction_Ids</th>\n",
       "      <th>Reaction_metNames</th>\n",
       "      <th>Newman</th>\n",
       "      <th>TCH1516</th>\n",
       "      <th>USA300</th>\n",
       "      <th>Mu3</th>\n",
       "      <th>JH9</th>\n",
       "      <th>JH1</th>\n",
       "      <th>COL</th>\n",
       "      <th>RF122</th>\n",
       "      <th>Mu50</th>\n",
       "      <th>MW2</th>\n",
       "      <th>MSSA476</th>\n",
       "      <th>MRSA252</th>\n",
       "      <th>N315</th>\n",
       "    </tr>\n",
       "  </thead>\n",
       "  <tbody>\n",
       "    <tr>\n",
       "      <th>0</th>\n",
       "      <td>1.1.1.100</td>\n",
       "      <td>R02767</td>\n",
       "      <td>C01271 + C00006 &lt;=&gt; C00685 + C00005 + C00080</td>\n",
       "      <td>(3R)-3-Hydroxyacyl-[acyl-carrier protein] + NA...</td>\n",
       "      <td>+</td>\n",
       "      <td>+</td>\n",
       "      <td>+</td>\n",
       "      <td>+</td>\n",
       "      <td>+</td>\n",
       "      <td>+</td>\n",
       "      <td>+</td>\n",
       "      <td>+</td>\n",
       "      <td>+</td>\n",
       "      <td>+</td>\n",
       "      <td>+</td>\n",
       "      <td>+</td>\n",
       "      <td>+</td>\n",
       "    </tr>\n",
       "    <tr>\n",
       "      <th>1</th>\n",
       "      <td>1.1.1.100</td>\n",
       "      <td>R04533</td>\n",
       "      <td>C04618 + C00006 &lt;=&gt; C05744 + C00005</td>\n",
       "      <td>(3R)-3-Hydroxybutanoyl-[acyl-carrier protein] ...</td>\n",
       "      <td>+</td>\n",
       "      <td>+</td>\n",
       "      <td>+</td>\n",
       "      <td>+</td>\n",
       "      <td>+</td>\n",
       "      <td>+</td>\n",
       "      <td>+</td>\n",
       "      <td>+</td>\n",
       "      <td>+</td>\n",
       "      <td>+</td>\n",
       "      <td>+</td>\n",
       "      <td>+</td>\n",
       "      <td>+</td>\n",
       "    </tr>\n",
       "    <tr>\n",
       "      <th>2</th>\n",
       "      <td>1.1.1.100</td>\n",
       "      <td>R04534</td>\n",
       "      <td>C04619 + C00006 &lt;=&gt; C05753 + C00005</td>\n",
       "      <td>(3R)-3-Hydroxydecanoyl-[acyl-carrier protein] ...</td>\n",
       "      <td>+</td>\n",
       "      <td>+</td>\n",
       "      <td>+</td>\n",
       "      <td>+</td>\n",
       "      <td>+</td>\n",
       "      <td>+</td>\n",
       "      <td>+</td>\n",
       "      <td>+</td>\n",
       "      <td>+</td>\n",
       "      <td>+</td>\n",
       "      <td>+</td>\n",
       "      <td>+</td>\n",
       "      <td>+</td>\n",
       "    </tr>\n",
       "    <tr>\n",
       "      <th>3</th>\n",
       "      <td>1.1.1.100</td>\n",
       "      <td>R04536</td>\n",
       "      <td>C04620 + C00006 &lt;=&gt; C05750 + C00005</td>\n",
       "      <td>(3R)-3-Hydroxyoctanoyl-[acyl-carrier protein] ...</td>\n",
       "      <td>+</td>\n",
       "      <td>+</td>\n",
       "      <td>+</td>\n",
       "      <td>+</td>\n",
       "      <td>+</td>\n",
       "      <td>+</td>\n",
       "      <td>+</td>\n",
       "      <td>+</td>\n",
       "      <td>+</td>\n",
       "      <td>+</td>\n",
       "      <td>+</td>\n",
       "      <td>+</td>\n",
       "      <td>+</td>\n",
       "    </tr>\n",
       "    <tr>\n",
       "      <th>4</th>\n",
       "      <td>1.1.1.100</td>\n",
       "      <td>R04543</td>\n",
       "      <td>C04633 + C00006 &lt;=&gt; C05762 + C00005</td>\n",
       "      <td>(3R)-3-Hydroxypalmitoyl-[acyl-carrier protein]...</td>\n",
       "      <td>+</td>\n",
       "      <td>+</td>\n",
       "      <td>+</td>\n",
       "      <td>+</td>\n",
       "      <td>+</td>\n",
       "      <td>+</td>\n",
       "      <td>+</td>\n",
       "      <td>+</td>\n",
       "      <td>+</td>\n",
       "      <td>+</td>\n",
       "      <td>+</td>\n",
       "      <td>+</td>\n",
       "      <td>+</td>\n",
       "    </tr>\n",
       "  </tbody>\n",
       "</table>\n",
       "</div>"
      ],
      "text/plain": [
       "   EC number KEGG reaction ID                                  Reaction_Ids  \\\n",
       "0  1.1.1.100           R02767  C01271 + C00006 <=> C00685 + C00005 + C00080   \n",
       "1  1.1.1.100           R04533           C04618 + C00006 <=> C05744 + C00005   \n",
       "2  1.1.1.100           R04534           C04619 + C00006 <=> C05753 + C00005   \n",
       "3  1.1.1.100           R04536           C04620 + C00006 <=> C05750 + C00005   \n",
       "4  1.1.1.100           R04543           C04633 + C00006 <=> C05762 + C00005   \n",
       "\n",
       "                                   Reaction_metNames Newman TCH1516 USA300  \\\n",
       "0  (3R)-3-Hydroxyacyl-[acyl-carrier protein] + NA...      +       +      +   \n",
       "1  (3R)-3-Hydroxybutanoyl-[acyl-carrier protein] ...      +       +      +   \n",
       "2  (3R)-3-Hydroxydecanoyl-[acyl-carrier protein] ...      +       +      +   \n",
       "3  (3R)-3-Hydroxyoctanoyl-[acyl-carrier protein] ...      +       +      +   \n",
       "4  (3R)-3-Hydroxypalmitoyl-[acyl-carrier protein]...      +       +      +   \n",
       "\n",
       "  Mu3 JH9 JH1 COL RF122 Mu50 MW2 MSSA476 MRSA252 N315  \n",
       "0   +   +   +   +     +    +   +       +       +    +  \n",
       "1   +   +   +   +     +    +   +       +       +    +  \n",
       "2   +   +   +   +     +    +   +       +       +    +  \n",
       "3   +   +   +   +     +    +   +       +       +    +  \n",
       "4   +   +   +   +     +    +   +       +       +    +  "
      ]
     },
     "execution_count": 17,
     "metadata": {},
     "output_type": "execute_result"
    }
   ],
   "source": [
    "df.head()"
   ]
  },
  {
   "cell_type": "code",
   "execution_count": 108,
   "metadata": {},
   "outputs": [
    {
     "data": {
      "text/html": [
       "<div>\n",
       "<style scoped>\n",
       "    .dataframe tbody tr th:only-of-type {\n",
       "        vertical-align: middle;\n",
       "    }\n",
       "\n",
       "    .dataframe tbody tr th {\n",
       "        vertical-align: top;\n",
       "    }\n",
       "\n",
       "    .dataframe thead th {\n",
       "        text-align: right;\n",
       "    }\n",
       "</style>\n",
       "<table border=\"1\" class=\"dataframe\">\n",
       "  <thead>\n",
       "    <tr style=\"text-align: right;\">\n",
       "      <th></th>\n",
       "      <th>Biomass components (m_i)</th>\n",
       "      <th>Coefficient(c_i)</th>\n",
       "      <th>Newman</th>\n",
       "      <th>TCH1516</th>\n",
       "      <th>USA300</th>\n",
       "      <th>Mu3</th>\n",
       "      <th>JH9</th>\n",
       "      <th>JH1</th>\n",
       "      <th>COL</th>\n",
       "      <th>RF122</th>\n",
       "      <th>Mu50</th>\n",
       "      <th>MW2</th>\n",
       "      <th>MSSA476</th>\n",
       "      <th>MRSA252</th>\n",
       "      <th>N315</th>\n",
       "    </tr>\n",
       "  </thead>\n",
       "  <tbody>\n",
       "    <tr>\n",
       "      <th>0</th>\n",
       "      <td>H2O</td>\n",
       "      <td>20000.00</td>\n",
       "      <td>+</td>\n",
       "      <td>+</td>\n",
       "      <td>+</td>\n",
       "      <td>+</td>\n",
       "      <td>+</td>\n",
       "      <td>+</td>\n",
       "      <td>+</td>\n",
       "      <td>+</td>\n",
       "      <td>+</td>\n",
       "      <td>+</td>\n",
       "      <td>+</td>\n",
       "      <td>+</td>\n",
       "      <td>+</td>\n",
       "    </tr>\n",
       "    <tr>\n",
       "      <th>1</th>\n",
       "      <td>ATP</td>\n",
       "      <td>20000.00</td>\n",
       "      <td>+</td>\n",
       "      <td>+</td>\n",
       "      <td>+</td>\n",
       "      <td>+</td>\n",
       "      <td>+</td>\n",
       "      <td>+</td>\n",
       "      <td>+</td>\n",
       "      <td>+</td>\n",
       "      <td>+</td>\n",
       "      <td>+</td>\n",
       "      <td>+</td>\n",
       "      <td>+</td>\n",
       "      <td>+</td>\n",
       "    </tr>\n",
       "    <tr>\n",
       "      <th>2</th>\n",
       "      <td>L-Glutamate</td>\n",
       "      <td>9.68</td>\n",
       "      <td>+</td>\n",
       "      <td>+</td>\n",
       "      <td>+</td>\n",
       "      <td>+</td>\n",
       "      <td>+</td>\n",
       "      <td>+</td>\n",
       "      <td>+</td>\n",
       "      <td>+</td>\n",
       "      <td>+</td>\n",
       "      <td>+</td>\n",
       "      <td>+</td>\n",
       "      <td>+</td>\n",
       "      <td>+</td>\n",
       "    </tr>\n",
       "    <tr>\n",
       "      <th>3</th>\n",
       "      <td>L-Glutamine</td>\n",
       "      <td>8.72</td>\n",
       "      <td>+</td>\n",
       "      <td>+</td>\n",
       "      <td>+</td>\n",
       "      <td>+</td>\n",
       "      <td>+</td>\n",
       "      <td>+</td>\n",
       "      <td>+</td>\n",
       "      <td>+</td>\n",
       "      <td>+</td>\n",
       "      <td>+</td>\n",
       "      <td>+</td>\n",
       "      <td>+</td>\n",
       "      <td>+</td>\n",
       "    </tr>\n",
       "    <tr>\n",
       "      <th>4</th>\n",
       "      <td>L-Alanine</td>\n",
       "      <td>6.60</td>\n",
       "      <td>+</td>\n",
       "      <td>+</td>\n",
       "      <td>+</td>\n",
       "      <td>+</td>\n",
       "      <td>+</td>\n",
       "      <td>+</td>\n",
       "      <td>+</td>\n",
       "      <td>+</td>\n",
       "      <td>+</td>\n",
       "      <td>+</td>\n",
       "      <td>+</td>\n",
       "      <td>+</td>\n",
       "      <td>+</td>\n",
       "    </tr>\n",
       "  </tbody>\n",
       "</table>\n",
       "</div>"
      ],
      "text/plain": [
       "  Biomass components (m_i)  Coefficient(c_i) Newman TCH1516 USA300 Mu3 JH9  \\\n",
       "0                      H2O          20000.00      +       +      +   +   +   \n",
       "1                      ATP          20000.00      +       +      +   +   +   \n",
       "2              L-Glutamate              9.68      +       +      +   +   +   \n",
       "3              L-Glutamine              8.72      +       +      +   +   +   \n",
       "4                L-Alanine              6.60      +       +      +   +   +   \n",
       "\n",
       "  JH1 COL RF122 Mu50 MW2 MSSA476 MRSA252 N315  \n",
       "0   +   +     +    +   +       +       +    +  \n",
       "1   +   +     +    +   +       +       +    +  \n",
       "2   +   +     +    +   +       +       +    +  \n",
       "3   +   +     +    +   +       +       +    +  \n",
       "4   +   +     +    +   +       +       +    +  "
      ]
     },
     "execution_count": 108,
     "metadata": {},
     "output_type": "execute_result"
    }
   ],
   "source": [
    "individual_biomass = pd.read_excel('supp_191_12_4015__SupplementaryDataset1.xls', sheet_name='biomass Becker and Palsson ',\n",
    "                       skiprows=2)\n",
    "individual_biomass.head()"
   ]
  },
  {
   "cell_type": "code",
   "execution_count": 133,
   "metadata": {},
   "outputs": [],
   "source": [
    "def create_individual_models(strain):\n",
    "    model = cobra.io.read_sbml_model('../Models/Lee_Pan_model/Initial_Lee_polished2.xml')\n",
    "    \n",
    "    #reactions\n",
    "    remove_react = [df.loc[i]['KEGG reaction ID'] for i in range(len(df)) if df.loc[i][strain] != \"+\"]\n",
    "    model.remove_reactions(remove_react)\n",
    "    \n",
    "    #metabolites\n",
    "    remove_met = [met for met in model.metabolites if len(met.reactions) == 0]\n",
    "    model.remove_metabolites(remove_met)\n",
    "    \n",
    "    #Biomass\n",
    "    biomass_react = model.reactions.get_by_id('BIOMASS_Becker')\n",
    "\n",
    "    remove_biomass_comp = [individual_biomass.loc[i]['Biomass components (m_i)'] for i in range(len(individual_biomass)) if individual_biomass.loc[i][strain] != \"+\"]\n",
    "    remove_comp = [[growth_becker.loc[growth_becker['Biomass components (m_i)'] == comp]['ID']][0].iloc[0] for comp in remove_biomass_comp]\n",
    "    remove_biomass_coeff = [individual_biomass.loc[i]['Coefficient(c_i)'] for i in range(len(individual_biomass)) if individual_biomass.loc[i][strain] != \"+\"]\n",
    "    #print(remove_comp)\n",
    "\n",
    "    for metabolite, coefficient in zip(remove_comp, remove_biomass_coeff):\n",
    "        biomass_react.subtract_metabolites({\n",
    "            model.metabolites.get_by_id(metabolite): -coefficient\n",
    "        })\n",
    "    return(model)"
   ]
  },
  {
   "cell_type": "markdown",
   "metadata": {},
   "source": [
    "### Step 1"
   ]
  },
  {
   "cell_type": "code",
   "execution_count": 134,
   "metadata": {},
   "outputs": [],
   "source": [
    "##Create individual models\n",
    "\n",
    "for strain in df.keys()[4:]:\n",
    "    model = create_individual_models(strain)\n",
    "    model.id = strain\n",
    "    model.name = 'Staphylococcus aureus ' + strain\n",
    "    cobra.io.write_sbml_model(model, '../Models/Lee/Lee_' + strain + '.xml')"
   ]
  },
  {
   "cell_type": "markdown",
   "metadata": {},
   "source": [
    "----\n",
    "# Additional information"
   ]
  },
  {
   "cell_type": "code",
   "execution_count": 3,
   "metadata": {},
   "outputs": [],
   "source": [
    "#Import Biopython modules to interact with KEGG\n",
    "#https://widdowquinn.github.io/2018-03-06-ibioic/02-sequence_databases/09-KEGG_programming.html\n",
    "\n",
    "from Bio import SeqIO\n",
    "from Bio.KEGG import REST\n",
    "#from Bio.KEGG.KGML import KGML_parser\n",
    "#from Bio.Graphics.KGML_vis import KGMLCanvas\n",
    "\n",
    "import csv\n",
    "\n",
    "import os"
   ]
  },
  {
   "cell_type": "code",
   "execution_count": 75,
   "metadata": {},
   "outputs": [
    {
     "name": "stdout",
     "output_type": "stream",
     "text": [
      "118\n"
     ]
    }
   ],
   "source": [
    "model = cobra.io.read_sbml_model('../Models/Lee_Pan_model/Initial_Lee_polished2.xml')\n",
    "metabolite_dict = {}\n",
    "metabolites_not_in_kegg = []\n",
    "\n",
    "for met in model.metabolites:\n",
    "    try:\n",
    "        result = REST.kegg_get('cpd:' + met.id[:-2]).read()\n",
    "        result = result.split('\\n')\n",
    "        for elem in result:\n",
    "            if 'FORMULA' in elem:\n",
    "                formula = elem.split()[1].strip()\n",
    "                metabolite_dict[met.id[:-2]] = formula\n",
    "                #print(metabolite_dict[met.id[:-2]], formula)\n",
    "                #w = csv.writer(open(\"Metabolites.csv\", \"w\"))\n",
    "                #for key, val in metabolite_dict.items():\n",
    "                #    w.writerow([key, val])\n",
    "    except:\n",
    "        metabolites_not_in_kegg.append(met.id)\n",
    "print(len(metabolites_not_in_kegg))"
   ]
  },
  {
   "cell_type": "markdown",
   "metadata": {},
   "source": [
    "### Step 2"
   ]
  },
  {
   "cell_type": "code",
   "execution_count": 135,
   "metadata": {},
   "outputs": [
    {
     "name": "stdout",
     "output_type": "stream",
     "text": [
      "Mu3\n",
      "N315\n",
      "Mu50\n",
      "JH9\n",
      "MSSA476\n",
      "TCH1516\n",
      "RF122\n",
      "JH1\n",
      "MRSA252\n",
      "Newman\n",
      "COL\n",
      "MW2\n",
      "USA300\n",
      "JH1\n"
     ]
    }
   ],
   "source": [
    "### Add chemical formulas to all models:\n",
    "directory = '../Models/Lee/'\n",
    "\n",
    "for filename in os.listdir(directory):\n",
    "    if filename.endswith(\".xml\") : \n",
    "        model = cobra.io.read_sbml_model(os.path.join(directory, filename))\n",
    "        print(model.id)\n",
    "        for met in model.metabolites:\n",
    "            if met.id[:-2] in metabolite_dict:\n",
    "                met.formula = metabolite_dict[met.id[:-2]]\n",
    "        cobra.io.write_sbml_model(model, os.path.join(directory, filename))\n",
    "    else:\n",
    "        continue"
   ]
  },
  {
   "cell_type": "code",
   "execution_count": 8,
   "metadata": {},
   "outputs": [
    {
     "name": "stdout",
     "output_type": "stream",
     "text": [
      "347\n"
     ]
    }
   ],
   "source": [
    "###First get List of Enzymes (use Pan model for that): \n",
    "enzyme_dict = {}\n",
    "reactions_not_in_kegg = []\n",
    "\n",
    "model = cobra.io.read_sbml_model('../Models/Lee_Pan_model/Initial_Lee_polished.xml')\n",
    "\n",
    "for reaction in model.reactions:\n",
    "    try: \n",
    "        result = REST.kegg_get('rn:' + reaction.id).read()\n",
    "        result = result.split('\\n')\n",
    "        for elem in result:\n",
    "            if 'ENZYME' in elem:\n",
    "                enzymes = elem.split()[1:]\n",
    "                enzyme_dict[reaction] = enzymes\n",
    "\n",
    "                #with open(\"Reaction_Enzyme.csv\", 'w') as file:\n",
    "                #    writer = csv.writer(file)\n",
    "                #    for key, val in enzyme_dict.items():\n",
    "                #        writer.writerow([key, val])\n",
    "    except:\n",
    "        reactions_not_in_kegg.append(reaction.id)\n",
    "print(len(reactions_not_in_kegg))"
   ]
  },
  {
   "cell_type": "code",
   "execution_count": 77,
   "metadata": {},
   "outputs": [],
   "source": [
    "strain_dictionary = {'Newman': 'SAE', 'Mu3': 'SAW', 'N315': 'SAU', 'Mu50': 'SAV', \n",
    "                    'JH9': 'SAJ', 'MSSA476': 'SAS', 'TCH1516': 'SAX', 'MRSA252': 'SAR', \n",
    "                    'COL': 'SAC', 'MW2': 'SAM', 'USA300': 'SAA', 'JH1': 'SAH'}"
   ]
  },
  {
   "cell_type": "code",
   "execution_count": 185,
   "metadata": {
    "collapsed": true
   },
   "outputs": [
    {
     "name": "stdout",
     "output_type": "stream",
     "text": [
      "1529\n",
      "817\n",
      "1.14.13.-\n",
      "1.1.1.-\n",
      "AND\n",
      "1.7.99.-\n",
      "GLUCOSE\n",
      "RELATED\n",
      "1.2.1.-\n",
      "3.1.2.-\n",
      "CATALYZED\n",
      "1.5.1.-\n",
      "1.14.-.-\n",
      "1.3.1.-\n",
      "SPECIFICITY\n",
      "2.7.8.-\n",
      "ENZYMATICALLY\n",
      "ANOMERIC\n",
      "ANOMERIZATION\n",
      "2.7.1.-\n",
      "1.3.99.-\n",
      "SPONTANEOUS\n",
      "ENZYMES.\n",
      "3.1.3.-\n",
      "1.14.11.-\n",
      "6-PHOSPHATE\n",
      "2.5.1.-\n",
      "3.4.-.-\n",
      "2.3.1.-\n",
      "2.6.1.-\n",
      "2.4.2.-\n",
      "OF\n",
      "1.3.8.7\n",
      "3.6.1.-\n",
      "4.1.2.-\n",
      "4.2.1.-\n",
      "            E.C Strain                                         Genes\n",
      "0       1.2.4.1    SAU                [SA0943-1(pdhA), SA0944(pdhB)]\n",
      "1       1.2.4.1    SAV                [SAV1093(pdhA), SAV1094(phdB)]\n",
      "2       1.2.4.1    SAW            [SAHV_1085(pdhA), SAHV_1086(phdB)]\n",
      "3       1.2.4.1    SAH                  [SaurJH1_1175, SaurJH1_1176]\n",
      "4       1.2.4.1    SAJ                  [SaurJH9_1153, SaurJH9_1154]\n",
      "5       1.2.4.1    SAM                        [MW0976, MW0977(phdB)]\n",
      "6       1.2.4.1    SAS                            [SAS1028, SAS1029]\n",
      "7       1.2.4.1    SAR                [SAR1067(pdhA), SAR1068(pdhB)]\n",
      "8       1.2.4.1    SAC            [SACOL1102(pdhA), SACOL1103(pdhB)]\n",
      "9       1.2.4.1    SAX  [USA300HOU_1036(pdhA), USA300HOU_1037(phdB)]\n",
      "10      1.2.4.1    SAA    [SAUSA300_0993(pdhA), SAUSA300_0994(pdhB)]\n",
      "11      1.2.4.1    SAE            [NWMN_0959(phdA), NWMN_0960(phdB)]\n",
      "12     6.3.4.13    SAU                                [SA0926(purD)]\n",
      "13     6.3.4.13    SAV                               [SAV1074(purD)]\n",
      "14     6.3.4.13    SAW                             [SAHV_1066(purD)]\n",
      "15     6.3.4.13    SAH                                [SaurJH1_1156]\n",
      "16     6.3.4.13    SAJ                                [SaurJH9_1134]\n",
      "17     6.3.4.13    SAM                                [MW0957(purD)]\n",
      "18     6.3.4.13    SAS                                     [SAS1010]\n",
      "19     6.3.4.13    SAR                               [SAR1048(purD)]\n",
      "20     6.3.4.13    SAC                             [SACOL1083(purD)]\n",
      "21     6.3.4.13    SAX                        [USA300HOU_1018(purD)]\n",
      "22     6.3.4.13    SAA                         [SAUSA300_0976(purD)]\n",
      "23     6.3.4.13    SAE                             [NWMN_0942(purD)]\n",
      "24    2.7.1.200    SAU                              [SA0236, SA0237]\n",
      "25    2.7.1.200    SAV                            [SAV0245, SAV0246]\n",
      "26    2.7.1.200    SAW                        [SAHV_0244, SAHV_0245]\n",
      "27    2.7.1.200    SAH                  [SaurJH1_0236, SaurJH1_0237]\n",
      "28    2.7.1.200    SAJ                  [SaurJH9_0230, SaurJH9_0231]\n",
      "29    2.7.1.200    SAM                              [MW0221, MW0222]\n",
      "...         ...    ...                                           ...\n",
      "4778    3.1.4.3    SAH                                [SaurJH1_2098]\n",
      "4779    3.1.4.3    SAJ                                [SaurJH9_2061]\n",
      "4780    3.1.4.3    SAM                       [MW1940(truncated_hlb)]\n",
      "4781    3.1.4.3    SAC                              [SACOL2003(hlb)]\n",
      "4782    3.1.4.3    SAA                               [SAUSA300_1973]\n",
      "4783    3.1.4.3    SAE                                   [NWMN_1926]\n",
      "4784  2.3.1.266    SAU                                      [SA1855]\n",
      "4785  2.3.1.266    SAV                                     [SAV2050]\n",
      "4786  2.3.1.266    SAW                                   [SAHV_2035]\n",
      "4787  2.3.1.266    SAH                                [SaurJH1_2124]\n",
      "4788  2.3.1.266    SAJ                                [SaurJH9_2087]\n",
      "4789  2.3.1.266    SAM                                      [MW1974]\n",
      "4790  2.3.1.266    SAS                                     [SAS1955]\n",
      "4791  2.3.1.266    SAR                                     [SAR2137]\n",
      "4792  2.3.1.266    SAC                                   [SACOL2039]\n",
      "4793  2.3.1.266    SAX                              [USA300HOU_2045]\n",
      "4794  2.3.1.266    SAA                         [SAUSA300_2003(rimI)]\n",
      "4795  2.3.1.266    SAE                             [NWMN_1957(rimJ)]\n",
      "4796   2.7.7.41    SAU                                [SA1104(cdsA)]\n",
      "4797   2.7.7.41    SAV                               [SAV1261(cdsA)]\n",
      "4798   2.7.7.41    SAW                             [SAHV_1251(cdsA)]\n",
      "4799   2.7.7.41    SAH                                [SaurJH1_1347]\n",
      "4800   2.7.7.41    SAJ                                [SaurJH9_1321]\n",
      "4801   2.7.7.41    SAM                                [MW1144(cdsA)]\n",
      "4802   2.7.7.41    SAS                                     [SAS1195]\n",
      "4803   2.7.7.41    SAR                                     [SAR1237]\n",
      "4804   2.7.7.41    SAC                             [SACOL1280(cdsA)]\n",
      "4805   2.7.7.41    SAX                        [USA300HOU_1193(cdsA)]\n",
      "4806   2.7.7.41    SAA                         [SAUSA300_1154(cdsA)]\n",
      "4807   2.7.7.41    SAE                             [NWMN_1171(cdsA)]\n",
      "\n",
      "[4808 rows x 3 columns]\n"
     ]
    }
   ],
   "source": [
    "'''#create list of unique enzymes: \n",
    "enzyme_list = []\n",
    "strain_dictionary = {'Newman': 'SAE', 'Mu3': 'SAW', 'N315': 'SAU', 'Mu50': 'SAV', \n",
    "                    'JH9': 'SAJ', 'MSSA476': 'SAS', 'TCH1516': 'SAX', 'MRSA252': 'SAR', \n",
    "                    'COL': 'SAC', 'MW2': 'SAM', 'USA300': 'SAA', 'JH1': 'SAH'}\n",
    "\n",
    "\n",
    "for reaction in enzyme_dict.keys():\n",
    "    enzyme_list += enzyme_dict[reaction]\n",
    "    \n",
    "print(len(enzyme_list))\n",
    "enzyme_list = list(set(enzyme_list))\n",
    "print(len(enzyme_list))\n",
    "\n",
    "gene_df = pd.DataFrame(columns = ['E.C', 'Strain', 'Genes'])\n",
    "\n",
    "\n",
    "enzymes = ['1.1.1.100', '1.1.1.-']\n",
    "for enzyme in enzyme_list:\n",
    "    try:\n",
    "        result = REST.kegg_get('ec:' + enzyme).read()\n",
    "        result = result.split('\\n')\n",
    "        for elem in result:\n",
    "            for value in strain_dictionary.values():\n",
    "                if '            '+value+': ' in elem:\n",
    "                    #print(enzyme, value, elem.split()[1:])\n",
    "                    gene_df = gene_df.append({'E.C': enzyme, 'Strain': value, 'Genes': elem.split()[1:]}, ignore_index = True)\n",
    "                    gene_df.to_csv('Genes.csv')\n",
    "    except:\n",
    "        print(enzyme)\n",
    "print(gene_df)'''"
   ]
  },
  {
   "cell_type": "code",
   "execution_count": 78,
   "metadata": {},
   "outputs": [
    {
     "data": {
      "text/html": [
       "<div>\n",
       "<style scoped>\n",
       "    .dataframe tbody tr th:only-of-type {\n",
       "        vertical-align: middle;\n",
       "    }\n",
       "\n",
       "    .dataframe tbody tr th {\n",
       "        vertical-align: top;\n",
       "    }\n",
       "\n",
       "    .dataframe thead th {\n",
       "        text-align: right;\n",
       "    }\n",
       "</style>\n",
       "<table border=\"1\" class=\"dataframe\">\n",
       "  <thead>\n",
       "    <tr style=\"text-align: right;\">\n",
       "      <th></th>\n",
       "      <th>E.C</th>\n",
       "      <th>Strain</th>\n",
       "      <th>Genes</th>\n",
       "    </tr>\n",
       "  </thead>\n",
       "  <tbody>\n",
       "    <tr>\n",
       "      <th>0</th>\n",
       "      <td>1.2.4.1</td>\n",
       "      <td>SAU</td>\n",
       "      <td>['SA0943-1(pdhA)', 'SA0944(pdhB)']</td>\n",
       "    </tr>\n",
       "    <tr>\n",
       "      <th>1</th>\n",
       "      <td>1.2.4.1</td>\n",
       "      <td>SAV</td>\n",
       "      <td>['SAV1093(pdhA)', 'SAV1094(phdB)']</td>\n",
       "    </tr>\n",
       "    <tr>\n",
       "      <th>2</th>\n",
       "      <td>1.2.4.1</td>\n",
       "      <td>SAW</td>\n",
       "      <td>['SAHV_1085(pdhA)', 'SAHV_1086(phdB)']</td>\n",
       "    </tr>\n",
       "    <tr>\n",
       "      <th>3</th>\n",
       "      <td>1.2.4.1</td>\n",
       "      <td>SAH</td>\n",
       "      <td>['SaurJH1_1175', 'SaurJH1_1176']</td>\n",
       "    </tr>\n",
       "    <tr>\n",
       "      <th>4</th>\n",
       "      <td>1.2.4.1</td>\n",
       "      <td>SAJ</td>\n",
       "      <td>['SaurJH9_1153', 'SaurJH9_1154']</td>\n",
       "    </tr>\n",
       "  </tbody>\n",
       "</table>\n",
       "</div>"
      ],
      "text/plain": [
       "       E.C Strain                                   Genes\n",
       "0  1.2.4.1    SAU      ['SA0943-1(pdhA)', 'SA0944(pdhB)']\n",
       "1  1.2.4.1    SAV      ['SAV1093(pdhA)', 'SAV1094(phdB)']\n",
       "2  1.2.4.1    SAW  ['SAHV_1085(pdhA)', 'SAHV_1086(phdB)']\n",
       "3  1.2.4.1    SAH        ['SaurJH1_1175', 'SaurJH1_1176']\n",
       "4  1.2.4.1    SAJ        ['SaurJH9_1153', 'SaurJH9_1154']"
      ]
     },
     "execution_count": 78,
     "metadata": {},
     "output_type": "execute_result"
    }
   ],
   "source": [
    "gene_df = pd.read_csv('Genes.csv')\n",
    "gene_df = gene_df.drop(['Unnamed: 0'], axis=1)\n",
    "for i in range(len(gene_df)):\n",
    "    gene_df.loc[i]['Genes'] = gene_df.loc[i]['Genes'].strip('][').split(', ') # Converting string to list\n",
    "    #print(type(gene_df.loc[i]['Genes']))\n",
    "gene_df.head()\n"
   ]
  },
  {
   "cell_type": "markdown",
   "metadata": {},
   "source": [
    "## Add Enzymes and Genes to Models"
   ]
  },
  {
   "cell_type": "code",
   "execution_count": 79,
   "metadata": {},
   "outputs": [
    {
     "name": "stdout",
     "output_type": "stream",
     "text": [
      "  Reaction                                                EC\n",
      "0   R02767                          ['1.1.1.100', '1.1.1.-']\n",
      "1   R04533  ['1.1.1.100', '1.1.1.-', '2.3.1.85', '2.3.1.86']\n",
      "2   R04534  ['1.1.1.100', '1.1.1.-', '2.3.1.85', '2.3.1.86']\n",
      "3   R04536  ['1.1.1.100', '1.1.1.-', '2.3.1.85', '2.3.1.86']\n",
      "4   R04543  ['1.1.1.100', '1.1.1.-', '2.3.1.85', '2.3.1.86']\n"
     ]
    }
   ],
   "source": [
    "from libsbml import *\n",
    "writer = SBMLWriter()\n",
    "reader = SBMLReader()\n",
    "\n",
    "reactions_enzymes = pd.read_csv('Reaction_Enzyme.csv', header = None)\n",
    "reactions_enzymes = reactions_enzymes.rename(columns={0: 'Reaction', 1: 'EC'})\n",
    "for i in range(len(reactions_enzymes)):\n",
    "    reactions_enzymes.loc[i]['Reaction'] = reactions_enzymes.loc[i]['Reaction'].split(':')[0].strip()\n",
    "\n",
    "\n",
    "print(reactions_enzymes.head())"
   ]
  },
  {
   "cell_type": "markdown",
   "metadata": {},
   "source": [
    "### Step 3"
   ]
  },
  {
   "cell_type": "code",
   "execution_count": 136,
   "metadata": {},
   "outputs": [],
   "source": [
    "'''\n",
    "Add EC Numbers as Annotations\n",
    "\n",
    "'''\n",
    "directory = '../Models/Lee/'\n",
    "\n",
    "for filename in os.listdir(directory):\n",
    "    if filename.endswith(\".xml\"): \n",
    "        document = reader.readSBML(os.path.join(directory, filename))\n",
    "        lib_model = document.getModel()\n",
    "        \n",
    "        for reaction in lib_model.getListOfReactions():\n",
    "            if reaction.getId()[2:] not in reactions_not_in_kegg:\n",
    "                if reaction.getId()[2:] in reactions_enzymes['Reaction'].tolist():\n",
    "                    enzymes = reactions_enzymes.loc[reactions_enzymes['Reaction'] == reaction.getId()[2:]]['EC'].iloc[0]\n",
    "                    enzymes = enzymes.strip('][').split(', ') \n",
    "                    enzymes = [e.replace(\"'\", '') for e in enzymes]\n",
    "\n",
    "                    for enzyme in enzymes:\n",
    "                        cv = CVTerm()\n",
    "                        cv.setQualifierType(BIOLOGICAL_QUALIFIER)\n",
    "                        cv.setBiologicalQualifierType(BQB_IS)\n",
    "                        cv.addResource('https://identifiers.org/ec-code/'+enzyme)\n",
    "                        reaction.addCVTerm(cv)\n",
    "        \n",
    "        writer.writeSBML(document, os.path.join(directory, filename))\n",
    "        \n",
    "    else:\n",
    "        continue"
   ]
  },
  {
   "cell_type": "code",
   "execution_count": 137,
   "metadata": {},
   "outputs": [
    {
     "name": "stdout",
     "output_type": "stream",
     "text": [
      "Mu3\n",
      "N315\n",
      "Mu50\n",
      "JH9\n",
      "MSSA476\n",
      "TCH1516\n",
      "JH1\n",
      "MRSA252\n",
      "Newman\n",
      "COL\n",
      "MW2\n",
      "USA300\n",
      "JH1\n"
     ]
    }
   ],
   "source": [
    "'''Add Genes to the respective Models'''\n",
    "directory = '../Models/Lee/'\n",
    "\n",
    "for filename in os.listdir(directory):\n",
    "    if filename.endswith(\".xml\"): \n",
    "        model = cobra.io.read_sbml_model(os.path.join(directory, filename))\n",
    "        if model.id != 'RF122':\n",
    "            strain = strain_dictionary[model.id]\n",
    "            print(model.id)\n",
    "            \n",
    "            temp = gene_df.loc[gene_df['Strain'] == strain]\n",
    "\n",
    "            for react in model.reactions:\n",
    "                #GPR = ''\n",
    "                try:\n",
    "                    enzymes = reactions_enzymes.loc[reactions_enzymes['Reaction'] == react.id]['EC'].iloc[0]\n",
    "                    enzymes = enzymes.strip('][').split(', ') \n",
    "                    enzymes = [e.replace(\"'\", '') for e in enzymes]\n",
    "                    #print(react.id, enzymes)\n",
    "                    GPR = ''\n",
    "\n",
    "                    for enzyme in enzymes:\n",
    "                        try:\n",
    "                            genes = temp.loc[temp['E.C'] == enzyme]['Genes'].iloc[0]\n",
    "\n",
    "                            for gene in genes:\n",
    "                                if '(' in gene:\n",
    "                                    GPR += gene.split('(')[0].replace(\"'\", '') + ' or '\n",
    "                                else:\n",
    "                                    GPR += gene.replace(\"'\", '') + ' or '\n",
    "\n",
    "                            react.gene_reaction_rule = GPR[:-4]\n",
    "                        except:\n",
    "                            continue\n",
    "\n",
    "                except:\n",
    "                    continue\n",
    "                \n",
    "            cobra.io.write_sbml_model(model, os.path.join(directory, filename))\n"
   ]
  },
  {
   "cell_type": "code",
   "execution_count": 138,
   "metadata": {},
   "outputs": [
    {
     "name": "stdout",
     "output_type": "stream",
     "text": [
      "Mu3\n",
      "1483\n",
      "1412\n",
      "492\n",
      "------------------\n",
      "N315\n",
      "1492\n",
      "1418\n",
      "493\n",
      "------------------\n",
      "Mu50\n",
      "1486\n",
      "1413\n",
      "492\n",
      "------------------\n",
      "JH9\n",
      "1488\n",
      "1417\n",
      "506\n",
      "------------------\n",
      "MSSA476\n",
      "1477\n",
      "1411\n",
      "488\n",
      "------------------\n",
      "TCH1516\n",
      "1434\n",
      "1375\n",
      "476\n",
      "------------------\n",
      "RF122\n",
      "1466\n",
      "1388\n",
      "0\n",
      "------------------\n",
      "JH1\n",
      "1479\n",
      "1409\n",
      "500\n",
      "------------------\n",
      "MRSA252\n",
      "1481\n",
      "1405\n",
      "488\n",
      "------------------\n",
      "Newman\n",
      "1463\n",
      "1403\n",
      "481\n",
      "------------------\n",
      "COL\n",
      "1477\n",
      "1407\n",
      "486\n",
      "------------------\n",
      "MW2\n",
      "1481\n",
      "1409\n",
      "492\n",
      "------------------\n",
      "USA300\n",
      "1485\n",
      "1411\n",
      "506\n",
      "------------------\n",
      "JH1\n",
      "1479\n",
      "1409\n",
      "500\n",
      "------------------\n"
     ]
    }
   ],
   "source": [
    "directory = '../Models/Lee/'\n",
    "\n",
    "for filename in os.listdir(directory):\n",
    "    if filename.endswith(\".xml\"): \n",
    "        model = cobra.io.read_sbml_model(os.path.join(directory, filename))\n",
    "        print(model.id)\n",
    "        print(len(model.reactions))\n",
    "        print(len(model.metabolites))\n",
    "        print(len(model.genes))\n",
    "        print('------------------')\n"
   ]
  },
  {
   "cell_type": "markdown",
   "metadata": {},
   "source": [
    "### Annotations+"
   ]
  },
  {
   "cell_type": "code",
   "execution_count": 144,
   "metadata": {},
   "outputs": [],
   "source": [
    "for filename in os.listdir(directory):\n",
    "    if filename.endswith(\".xml\"): \n",
    "\n",
    "        document= reader.readSBML(os.path.join(directory, filename))\n",
    "        model = document.getModel()\n",
    "\n",
    "        for react in model.getListOfReactions():\n",
    "            if react.id[2:] not in reactions_not_in_kegg:\n",
    "                cv = CVTerm()\n",
    "                cv.setQualifierType(BIOLOGICAL_QUALIFIER)\n",
    "                cv.setBiologicalQualifierType(BQB_IS)\n",
    "                cv.addResource(\"https://identifiers.org/kegg.reaction/\" + react.id[2:])\n",
    "\n",
    "                react.addCVTerm(cv)\n",
    "\n",
    "\n",
    "        for species in model.getListOfSpecies():\n",
    "            species.setMetaId(species.getId())\n",
    "            if species.id[2:] not in metabolites_not_in_kegg:\n",
    "                cv = CVTerm()\n",
    "                cv.setQualifierType(BIOLOGICAL_QUALIFIER)\n",
    "                cv.setBiologicalQualifierType(BQB_IS)\n",
    "                cv.addResource(\"https://identifiers.org/kegg.compound/\" + species.id[2:-2])\n",
    "\n",
    "                species.addCVTerm(cv)\n",
    "\n",
    "        for species in model.getListOfSpecies():\n",
    "            splugin = species.getPlugin('fbc')\n",
    "            if splugin is not None:\n",
    "                if '(' in splugin.getChemicalFormula() or 'n' in splugin.getChemicalFormula() or '.' in splugin.getChemicalFormula():\n",
    "                    formula_old = splugin.getChemicalFormula()\n",
    "                    formula = formula_old.replace('(', '')\n",
    "                    formula = formula.replace(')', '')\n",
    "                    formula = formula.replace('n', '')\n",
    "                    formula = formula.replace('.', '')\n",
    "                    formula = formula.replace('-2', '')\n",
    "                    splugin.setChemicalFormula(formula)\n",
    "\n",
    "                    note = \"<body xmlns='http://www.w3.org/1999/xhtml'><p>FORMULA: \" + formula_old + '</p></body>'\n",
    "                    species.setNotes(note)\n",
    "\n",
    "            species.setSBOTerm(247)\n",
    "\n",
    "        mplugin = model.getPlugin('fbc') \n",
    "\n",
    "        for gene in mplugin.getListOfGeneProducts():\n",
    "            gene.setMetaId(gene.getId())\n",
    "            gene.setSBOTerm(243)\n",
    "            cv = CVTerm()\n",
    "            cv.setQualifierType(BIOLOGICAL_QUALIFIER)\n",
    "            cv.setBiologicalQualifierType(BQB_IS)\n",
    "            cv.addResource(\"https://identifiers.org/kegg.genes/\" + gene.id[2:])\n",
    "            gene.addCVTerm(cv)\n",
    "\n",
    "        writeSBMLToFile(document, os.path.join(directory, filename))"
   ]
  },
  {
   "cell_type": "code",
   "execution_count": 54,
   "metadata": {},
   "outputs": [
    {
     "data": {
      "text/plain": [
       "(<Model JH1 at 0x103661dd50>,\n",
       " {'SBML_FATAL': [],\n",
       "  'SBML_ERROR': [],\n",
       "  'SBML_SCHEMA_ERROR': [],\n",
       "  'SBML_WARNING': [],\n",
       "  'COBRA_FATAL': [],\n",
       "  'COBRA_ERROR': [],\n",
       "  'COBRA_WARNING': [],\n",
       "  'COBRA_CHECK': []})"
      ]
     },
     "execution_count": 54,
     "metadata": {},
     "output_type": "execute_result"
    }
   ],
   "source": [
    "cobra.io.validate_sbml_model('../Models/Lee/Lee_JH1_annotated.xml')"
   ]
  },
  {
   "cell_type": "code",
   "execution_count": 11,
   "metadata": {},
   "outputs": [
    {
     "name": "stdout",
     "output_type": "stream",
     "text": [
      "0.0\n",
      "0.0\n",
      "0.0\n",
      "0.0\n",
      "0.0\n",
      "0.0\n",
      "0.0\n",
      "0.0\n",
      "0.0\n",
      "0.0\n",
      "0.0\n",
      "0.0\n",
      "0.0\n"
     ]
    }
   ],
   "source": [
    "directory = '../Models/Lee/'\n",
    "\n",
    "reactions = []\n",
    "metabolites = []\n",
    "genes = []\n",
    "\n",
    "for filename in os.listdir(directory):\n",
    "    if filename.endswith(\".xml\"): \n",
    "        model = cobra.io.read_sbml_model(os.path.join(directory, filename))\n",
    "        print(model.optimize().objective_value)\n",
    "        reactions.append(len(model.reactions))\n",
    "        metabolites.append(len(model.metabolites))\n",
    "        genes.append(len(model.genes))"
   ]
  },
  {
   "cell_type": "code",
   "execution_count": 9,
   "metadata": {},
   "outputs": [
    {
     "name": "stdout",
     "output_type": "stream",
     "text": [
      "1476 14\n",
      "1406 11\n",
      "491 8\n"
     ]
    }
   ],
   "source": [
    "print(int(np.mean(reactions)), int(np.std(reactions)))\n",
    "print(int(np.mean(metabolites)), int(np.std(metabolites)))\n",
    "#print(int(np.mean(genes.remove(0))), int(np.std(genes.remove(0))))\n",
    "print(int(np.mean(genes)), int(np.std(genes)))"
   ]
  },
  {
   "cell_type": "code",
   "execution_count": 10,
   "metadata": {},
   "outputs": [
    {
     "name": "stdout",
     "output_type": "stream",
     "text": [
      "[492, 493, 492, 506, 488, 476, 488, 481, 486, 492, 506, 500]\n"
     ]
    }
   ],
   "source": [
    "print(genes)"
   ]
  }
 ],
 "metadata": {
  "kernelspec": {
   "display_name": "Python 3",
   "language": "python",
   "name": "python3"
  },
  "language_info": {
   "codemirror_mode": {
    "name": "ipython",
    "version": 3
   },
   "file_extension": ".py",
   "mimetype": "text/x-python",
   "name": "python",
   "nbconvert_exporter": "python",
   "pygments_lexer": "ipython3",
   "version": "3.7.4"
  }
 },
 "nbformat": 4,
 "nbformat_minor": 2
}
